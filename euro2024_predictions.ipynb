{
 "cells": [
  {
   "cell_type": "code",
   "execution_count": 116,
   "id": "8c02e3a8-64d8-4841-b093-78c28acbfdc4",
   "metadata": {
    "tags": []
   },
   "outputs": [],
   "source": [
    "import pandas as pd\n",
    "import plotly.express as px\n",
    "import plotly.graph_objects as go\n"
   ]
  },
  {
   "cell_type": "code",
   "execution_count": 117,
   "id": "9b287bdf-4f32-428b-a3b3-54ece1746425",
   "metadata": {
    "tags": []
   },
   "outputs": [
    {
     "data": {
      "text/plain": [
       "'c:\\\\Users\\\\thmorgan\\\\Documents\\\\sandbox\\\\euro2024-predictions'"
      ]
     },
     "execution_count": 117,
     "metadata": {},
     "output_type": "execute_result"
    }
   ],
   "source": [
    "import os\n",
    "os.getcwd()"
   ]
  },
  {
   "cell_type": "code",
   "execution_count": 118,
   "id": "5729bfa7",
   "metadata": {},
   "outputs": [],
   "source": [
    "df_results = pd.read_csv('data/results.csv')"
   ]
  },
  {
   "cell_type": "code",
   "execution_count": 119,
   "id": "fe30375c-043f-4cfd-b0cb-5e1477b74ff7",
   "metadata": {
    "tags": []
   },
   "outputs": [
    {
     "data": {
      "text/html": [
       "<div>\n",
       "<style scoped>\n",
       "    .dataframe tbody tr th:only-of-type {\n",
       "        vertical-align: middle;\n",
       "    }\n",
       "\n",
       "    .dataframe tbody tr th {\n",
       "        vertical-align: top;\n",
       "    }\n",
       "\n",
       "    .dataframe thead th {\n",
       "        text-align: right;\n",
       "    }\n",
       "</style>\n",
       "<table border=\"1\" class=\"dataframe\">\n",
       "  <thead>\n",
       "    <tr style=\"text-align: right;\">\n",
       "      <th></th>\n",
       "      <th>timestamp</th>\n",
       "      <th>name</th>\n",
       "      <th>bonus_match_code</th>\n",
       "      <th>match_code</th>\n",
       "      <th>predicted_score</th>\n",
       "    </tr>\n",
       "  </thead>\n",
       "  <tbody>\n",
       "    <tr>\n",
       "      <th>0</th>\n",
       "      <td>27/05/2024 20:29:29</td>\n",
       "      <td>Corfe</td>\n",
       "      <td>M01. Germany v Scotland</td>\n",
       "      <td>M01. Germany v Scotland</td>\n",
       "      <td>1-0</td>\n",
       "    </tr>\n",
       "    <tr>\n",
       "      <th>1</th>\n",
       "      <td>27/05/2024 20:29:29</td>\n",
       "      <td>Ed</td>\n",
       "      <td>M03. Spain v Croatia</td>\n",
       "      <td>M01. Germany v Scotland</td>\n",
       "      <td>1-0</td>\n",
       "    </tr>\n",
       "    <tr>\n",
       "      <th>2</th>\n",
       "      <td>27/05/2024 20:29:29</td>\n",
       "      <td>Jay</td>\n",
       "      <td>M08. Austria v France</td>\n",
       "      <td>M01. Germany v Scotland</td>\n",
       "      <td>1-1</td>\n",
       "    </tr>\n",
       "    <tr>\n",
       "      <th>3</th>\n",
       "      <td>27/05/2024 20:29:29</td>\n",
       "      <td>Jonny</td>\n",
       "      <td>M08. Austria v France</td>\n",
       "      <td>M01. Germany v Scotland</td>\n",
       "      <td>1-0</td>\n",
       "    </tr>\n",
       "    <tr>\n",
       "      <th>4</th>\n",
       "      <td>27/05/2024 20:29:29</td>\n",
       "      <td>Larry</td>\n",
       "      <td>M08. Austria v France</td>\n",
       "      <td>M01. Germany v Scotland</td>\n",
       "      <td>1-0</td>\n",
       "    </tr>\n",
       "  </tbody>\n",
       "</table>\n",
       "</div>"
      ],
      "text/plain": [
       "             timestamp   name         bonus_match_code  \\\n",
       "0  27/05/2024 20:29:29  Corfe  M01. Germany v Scotland   \n",
       "1  27/05/2024 20:29:29     Ed     M03. Spain v Croatia   \n",
       "2  27/05/2024 20:29:29    Jay    M08. Austria v France   \n",
       "3  27/05/2024 20:29:29  Jonny    M08. Austria v France   \n",
       "4  27/05/2024 20:29:29  Larry    M08. Austria v France   \n",
       "\n",
       "                match_code predicted_score  \n",
       "0  M01. Germany v Scotland             1-0  \n",
       "1  M01. Germany v Scotland             1-0  \n",
       "2  M01. Germany v Scotland             1-1  \n",
       "3  M01. Germany v Scotland             1-0  \n",
       "4  M01. Germany v Scotland             1-0  "
      ]
     },
     "execution_count": 119,
     "metadata": {},
     "output_type": "execute_result"
    }
   ],
   "source": [
    "md1_responses = pd.read_csv('data/md1_responses.csv')\n",
    "# rename columns\n",
    "md1_responses = md1_responses.rename(columns={'Timestamp': 'timestamp', 'Name': 'name', 'Which game would you like to give double points to?': 'bonus_match_code'})\n",
    "# transform dataframe from wide to long\n",
    "md1_responses = md1_responses.melt(id_vars=['timestamp', 'name', 'bonus_match_code'],\n",
    "                                     var_name='match_code', value_name='predicted_score')\n",
    "# preview\n",
    "md1_responses.head()"
   ]
  },
  {
   "cell_type": "code",
   "execution_count": 120,
   "id": "8d6f9746",
   "metadata": {},
   "outputs": [
    {
     "data": {
      "text/html": [
       "<div>\n",
       "<style scoped>\n",
       "    .dataframe tbody tr th:only-of-type {\n",
       "        vertical-align: middle;\n",
       "    }\n",
       "\n",
       "    .dataframe tbody tr th {\n",
       "        vertical-align: top;\n",
       "    }\n",
       "\n",
       "    .dataframe thead th {\n",
       "        text-align: right;\n",
       "    }\n",
       "</style>\n",
       "<table border=\"1\" class=\"dataframe\">\n",
       "  <thead>\n",
       "    <tr style=\"text-align: right;\">\n",
       "      <th></th>\n",
       "      <th>timestamp</th>\n",
       "      <th>name</th>\n",
       "      <th>bonus_match_code</th>\n",
       "      <th>match_code</th>\n",
       "      <th>predicted_score</th>\n",
       "    </tr>\n",
       "  </thead>\n",
       "  <tbody>\n",
       "    <tr>\n",
       "      <th>0</th>\n",
       "      <td>27/05/2024 20:29:29</td>\n",
       "      <td>Corfe</td>\n",
       "      <td>M17. Denmark v England</td>\n",
       "      <td>M13. Scotland v Switzerland</td>\n",
       "      <td>1-0</td>\n",
       "    </tr>\n",
       "    <tr>\n",
       "      <th>1</th>\n",
       "      <td>27/05/2024 20:29:29</td>\n",
       "      <td>Ed</td>\n",
       "      <td>M22. Belgium v Romania</td>\n",
       "      <td>M13. Scotland v Switzerland</td>\n",
       "      <td>1-0</td>\n",
       "    </tr>\n",
       "    <tr>\n",
       "      <th>2</th>\n",
       "      <td>27/05/2024 20:29:29</td>\n",
       "      <td>Jay</td>\n",
       "      <td>M16. Spain v Italy</td>\n",
       "      <td>M13. Scotland v Switzerland</td>\n",
       "      <td>1-1</td>\n",
       "    </tr>\n",
       "    <tr>\n",
       "      <th>3</th>\n",
       "      <td>27/05/2024 20:29:29</td>\n",
       "      <td>Jonny</td>\n",
       "      <td>M17. Denmark v England</td>\n",
       "      <td>M13. Scotland v Switzerland</td>\n",
       "      <td>1-0</td>\n",
       "    </tr>\n",
       "    <tr>\n",
       "      <th>4</th>\n",
       "      <td>27/05/2024 20:29:29</td>\n",
       "      <td>Larry</td>\n",
       "      <td>M17. Denmark v England</td>\n",
       "      <td>M13. Scotland v Switzerland</td>\n",
       "      <td>1-0</td>\n",
       "    </tr>\n",
       "  </tbody>\n",
       "</table>\n",
       "</div>"
      ],
      "text/plain": [
       "             timestamp   name        bonus_match_code  \\\n",
       "0  27/05/2024 20:29:29  Corfe  M17. Denmark v England   \n",
       "1  27/05/2024 20:29:29     Ed  M22. Belgium v Romania   \n",
       "2  27/05/2024 20:29:29    Jay      M16. Spain v Italy   \n",
       "3  27/05/2024 20:29:29  Jonny  M17. Denmark v England   \n",
       "4  27/05/2024 20:29:29  Larry  M17. Denmark v England   \n",
       "\n",
       "                    match_code predicted_score  \n",
       "0  M13. Scotland v Switzerland             1-0  \n",
       "1  M13. Scotland v Switzerland             1-0  \n",
       "2  M13. Scotland v Switzerland             1-1  \n",
       "3  M13. Scotland v Switzerland             1-0  \n",
       "4  M13. Scotland v Switzerland             1-0  "
      ]
     },
     "execution_count": 120,
     "metadata": {},
     "output_type": "execute_result"
    }
   ],
   "source": [
    "md2_responses = pd.read_csv('data/md2_responses.csv')\n",
    "md2_responses = md2_responses.rename(columns={'Timestamp': 'timestamp', 'Name': 'name', 'Which game would you like to give double points to?': 'bonus_match_code'})\n",
    "# transform dataframe from wide to long\n",
    "md2_responses = md2_responses.melt(id_vars=['timestamp', 'name', 'bonus_match_code'],\n",
    "                                     var_name='match_code', value_name='predicted_score')\n",
    "# preview\n",
    "md2_responses.head()"
   ]
  },
  {
   "cell_type": "code",
   "execution_count": null,
   "id": "d27ac039",
   "metadata": {},
   "outputs": [],
   "source": [
    "#md3_responses = pd.read_csv('data/md3_responses.csv')\n",
    "#md3_responses = md3_responses.rename(columns={'Timestamp': 'timestamp', 'Name': 'name', 'Which game would you like to give double points to?': 'bonus_match_code'})\n",
    "## transform dataframe from wide to long\n",
    "#md3_responses = md3_responses.melt(id_vars=['timestamp', 'name', 'bonus_match_code'],\n",
    "#                                     var_name='match_code', value_name='predicted_score')\n",
    "## preview\n",
    "#md3_responses.head()"
   ]
  },
  {
   "cell_type": "code",
   "execution_count": 121,
   "id": "38f90e0e",
   "metadata": {},
   "outputs": [
    {
     "data": {
      "text/html": [
       "<div>\n",
       "<style scoped>\n",
       "    .dataframe tbody tr th:only-of-type {\n",
       "        vertical-align: middle;\n",
       "    }\n",
       "\n",
       "    .dataframe tbody tr th {\n",
       "        vertical-align: top;\n",
       "    }\n",
       "\n",
       "    .dataframe thead th {\n",
       "        text-align: right;\n",
       "    }\n",
       "</style>\n",
       "<table border=\"1\" class=\"dataframe\">\n",
       "  <thead>\n",
       "    <tr style=\"text-align: right;\">\n",
       "      <th></th>\n",
       "      <th>timestamp</th>\n",
       "      <th>name</th>\n",
       "      <th>bonus_match_code</th>\n",
       "      <th>match_code</th>\n",
       "      <th>predicted_score</th>\n",
       "    </tr>\n",
       "  </thead>\n",
       "  <tbody>\n",
       "    <tr>\n",
       "      <th>0</th>\n",
       "      <td>27/05/2024 20:29:29</td>\n",
       "      <td>Corfe</td>\n",
       "      <td>M01. Germany v Scotland</td>\n",
       "      <td>M01. Germany v Scotland</td>\n",
       "      <td>1-0</td>\n",
       "    </tr>\n",
       "    <tr>\n",
       "      <th>1</th>\n",
       "      <td>27/05/2024 20:29:29</td>\n",
       "      <td>Ed</td>\n",
       "      <td>M03. Spain v Croatia</td>\n",
       "      <td>M01. Germany v Scotland</td>\n",
       "      <td>1-0</td>\n",
       "    </tr>\n",
       "    <tr>\n",
       "      <th>2</th>\n",
       "      <td>27/05/2024 20:29:29</td>\n",
       "      <td>Jay</td>\n",
       "      <td>M08. Austria v France</td>\n",
       "      <td>M01. Germany v Scotland</td>\n",
       "      <td>1-1</td>\n",
       "    </tr>\n",
       "    <tr>\n",
       "      <th>3</th>\n",
       "      <td>27/05/2024 20:29:29</td>\n",
       "      <td>Jonny</td>\n",
       "      <td>M08. Austria v France</td>\n",
       "      <td>M01. Germany v Scotland</td>\n",
       "      <td>1-0</td>\n",
       "    </tr>\n",
       "    <tr>\n",
       "      <th>4</th>\n",
       "      <td>27/05/2024 20:29:29</td>\n",
       "      <td>Larry</td>\n",
       "      <td>M08. Austria v France</td>\n",
       "      <td>M01. Germany v Scotland</td>\n",
       "      <td>1-0</td>\n",
       "    </tr>\n",
       "    <tr>\n",
       "      <th>...</th>\n",
       "      <td>...</td>\n",
       "      <td>...</td>\n",
       "      <td>...</td>\n",
       "      <td>...</td>\n",
       "      <td>...</td>\n",
       "    </tr>\n",
       "    <tr>\n",
       "      <th>85</th>\n",
       "      <td>27/05/2024 20:29:29</td>\n",
       "      <td>Larry</td>\n",
       "      <td>M17. Denmark v England</td>\n",
       "      <td>M22. Belgium v Romania</td>\n",
       "      <td>4-0</td>\n",
       "    </tr>\n",
       "    <tr>\n",
       "      <th>86</th>\n",
       "      <td>27/05/2024 20:29:29</td>\n",
       "      <td>Luke</td>\n",
       "      <td>M20. Netherlands v France</td>\n",
       "      <td>M22. Belgium v Romania</td>\n",
       "      <td>0-0</td>\n",
       "    </tr>\n",
       "    <tr>\n",
       "      <th>87</th>\n",
       "      <td>27/05/2024 20:29:29</td>\n",
       "      <td>Marc</td>\n",
       "      <td>M17. Denmark v England</td>\n",
       "      <td>M22. Belgium v Romania</td>\n",
       "      <td>1-1</td>\n",
       "    </tr>\n",
       "    <tr>\n",
       "      <th>88</th>\n",
       "      <td>27/05/2024 20:29:29</td>\n",
       "      <td>Tom</td>\n",
       "      <td>M17. Denmark v England</td>\n",
       "      <td>M22. Belgium v Romania</td>\n",
       "      <td>1-1</td>\n",
       "    </tr>\n",
       "    <tr>\n",
       "      <th>89</th>\n",
       "      <td>27/05/2024 20:29:29</td>\n",
       "      <td>Rando Randal</td>\n",
       "      <td>M17. Denmark v England</td>\n",
       "      <td>M22. Belgium v Romania</td>\n",
       "      <td>1-1</td>\n",
       "    </tr>\n",
       "  </tbody>\n",
       "</table>\n",
       "<p>90 rows × 5 columns</p>\n",
       "</div>"
      ],
      "text/plain": [
       "              timestamp          name           bonus_match_code  \\\n",
       "0   27/05/2024 20:29:29         Corfe    M01. Germany v Scotland   \n",
       "1   27/05/2024 20:29:29            Ed       M03. Spain v Croatia   \n",
       "2   27/05/2024 20:29:29           Jay      M08. Austria v France   \n",
       "3   27/05/2024 20:29:29         Jonny      M08. Austria v France   \n",
       "4   27/05/2024 20:29:29         Larry      M08. Austria v France   \n",
       "..                  ...           ...                        ...   \n",
       "85  27/05/2024 20:29:29         Larry     M17. Denmark v England   \n",
       "86  27/05/2024 20:29:29          Luke  M20. Netherlands v France   \n",
       "87  27/05/2024 20:29:29          Marc     M17. Denmark v England   \n",
       "88  27/05/2024 20:29:29           Tom     M17. Denmark v England   \n",
       "89  27/05/2024 20:29:29  Rando Randal     M17. Denmark v England   \n",
       "\n",
       "                 match_code predicted_score  \n",
       "0   M01. Germany v Scotland             1-0  \n",
       "1   M01. Germany v Scotland             1-0  \n",
       "2   M01. Germany v Scotland             1-1  \n",
       "3   M01. Germany v Scotland             1-0  \n",
       "4   M01. Germany v Scotland             1-0  \n",
       "..                      ...             ...  \n",
       "85   M22. Belgium v Romania             4-0  \n",
       "86   M22. Belgium v Romania             0-0  \n",
       "87   M22. Belgium v Romania             1-1  \n",
       "88   M22. Belgium v Romania             1-1  \n",
       "89   M22. Belgium v Romania             1-1  \n",
       "\n",
       "[90 rows x 5 columns]"
      ]
     },
     "execution_count": 121,
     "metadata": {},
     "output_type": "execute_result"
    }
   ],
   "source": [
    "# Concatenate the DataFrames (union)\n",
    "df_predictions = pd.concat([md1_responses, md2_responses], axis=0)\n",
    "# Reset the index for better readability\n",
    "df_predictions.reset_index(drop=True, inplace=True)\n",
    "# Display the concatenated DataFrame\n",
    "df_predictions"
   ]
  },
  {
   "cell_type": "code",
   "execution_count": 122,
   "id": "0af3fa94-3605-43f6-9ba3-c56815a5a27f",
   "metadata": {
    "tags": []
   },
   "outputs": [],
   "source": [
    "# Create a new points_multiplier column\n",
    "df_predictions['points_multiplier'] = df_predictions.apply(lambda row: 2 if row['bonus_match_code'] == row['match_code'] else 1, axis=1)"
   ]
  },
  {
   "cell_type": "code",
   "execution_count": 123,
   "id": "08a00f4d-9763-4eda-a4d1-690c91292181",
   "metadata": {
    "tags": []
   },
   "outputs": [],
   "source": [
    "# Extract MatchCode, Home, and Away using regular expressions\n",
    "df_predictions[['match_code', 'home', 'away']] = df_predictions['match_code'].str.extract(r'(M\\d{2}). (.+) v (.+)')\n",
    "df_predictions = df_predictions[['timestamp', 'name', 'match_code', 'home', 'away', 'predicted_score', 'points_multiplier']]\n"
   ]
  },
  {
   "cell_type": "code",
   "execution_count": 124,
   "id": "a7b85b0a-4956-4212-a3bf-a4ae5908b4d2",
   "metadata": {
    "tags": []
   },
   "outputs": [
    {
     "data": {
      "text/html": [
       "<div>\n",
       "<style scoped>\n",
       "    .dataframe tbody tr th:only-of-type {\n",
       "        vertical-align: middle;\n",
       "    }\n",
       "\n",
       "    .dataframe tbody tr th {\n",
       "        vertical-align: top;\n",
       "    }\n",
       "\n",
       "    .dataframe thead th {\n",
       "        text-align: right;\n",
       "    }\n",
       "</style>\n",
       "<table border=\"1\" class=\"dataframe\">\n",
       "  <thead>\n",
       "    <tr style=\"text-align: right;\">\n",
       "      <th></th>\n",
       "      <th>timestamp</th>\n",
       "      <th>name</th>\n",
       "      <th>match_code</th>\n",
       "      <th>home</th>\n",
       "      <th>away</th>\n",
       "      <th>predicted_score</th>\n",
       "      <th>points_multiplier</th>\n",
       "    </tr>\n",
       "  </thead>\n",
       "  <tbody>\n",
       "    <tr>\n",
       "      <th>0</th>\n",
       "      <td>27/05/2024 20:29:29</td>\n",
       "      <td>Corfe</td>\n",
       "      <td>M01</td>\n",
       "      <td>Germany</td>\n",
       "      <td>Scotland</td>\n",
       "      <td>1-0</td>\n",
       "      <td>2</td>\n",
       "    </tr>\n",
       "    <tr>\n",
       "      <th>1</th>\n",
       "      <td>27/05/2024 20:29:29</td>\n",
       "      <td>Ed</td>\n",
       "      <td>M01</td>\n",
       "      <td>Germany</td>\n",
       "      <td>Scotland</td>\n",
       "      <td>1-0</td>\n",
       "      <td>1</td>\n",
       "    </tr>\n",
       "    <tr>\n",
       "      <th>2</th>\n",
       "      <td>27/05/2024 20:29:29</td>\n",
       "      <td>Jay</td>\n",
       "      <td>M01</td>\n",
       "      <td>Germany</td>\n",
       "      <td>Scotland</td>\n",
       "      <td>1-1</td>\n",
       "      <td>1</td>\n",
       "    </tr>\n",
       "    <tr>\n",
       "      <th>3</th>\n",
       "      <td>27/05/2024 20:29:29</td>\n",
       "      <td>Jonny</td>\n",
       "      <td>M01</td>\n",
       "      <td>Germany</td>\n",
       "      <td>Scotland</td>\n",
       "      <td>1-0</td>\n",
       "      <td>1</td>\n",
       "    </tr>\n",
       "    <tr>\n",
       "      <th>4</th>\n",
       "      <td>27/05/2024 20:29:29</td>\n",
       "      <td>Larry</td>\n",
       "      <td>M01</td>\n",
       "      <td>Germany</td>\n",
       "      <td>Scotland</td>\n",
       "      <td>1-0</td>\n",
       "      <td>1</td>\n",
       "    </tr>\n",
       "  </tbody>\n",
       "</table>\n",
       "</div>"
      ],
      "text/plain": [
       "             timestamp   name match_code     home      away predicted_score  \\\n",
       "0  27/05/2024 20:29:29  Corfe        M01  Germany  Scotland             1-0   \n",
       "1  27/05/2024 20:29:29     Ed        M01  Germany  Scotland             1-0   \n",
       "2  27/05/2024 20:29:29    Jay        M01  Germany  Scotland             1-1   \n",
       "3  27/05/2024 20:29:29  Jonny        M01  Germany  Scotland             1-0   \n",
       "4  27/05/2024 20:29:29  Larry        M01  Germany  Scotland             1-0   \n",
       "\n",
       "   points_multiplier  \n",
       "0                  2  \n",
       "1                  1  \n",
       "2                  1  \n",
       "3                  1  \n",
       "4                  1  "
      ]
     },
     "execution_count": 124,
     "metadata": {},
     "output_type": "execute_result"
    }
   ],
   "source": [
    "df_predictions.head()"
   ]
  },
  {
   "cell_type": "code",
   "execution_count": 125,
   "id": "c919d1b9-3ad3-4cc7-8f32-ffe23b14fb16",
   "metadata": {
    "tags": []
   },
   "outputs": [
    {
     "data": {
      "text/html": [
       "<div>\n",
       "<style scoped>\n",
       "    .dataframe tbody tr th:only-of-type {\n",
       "        vertical-align: middle;\n",
       "    }\n",
       "\n",
       "    .dataframe tbody tr th {\n",
       "        vertical-align: top;\n",
       "    }\n",
       "\n",
       "    .dataframe thead th {\n",
       "        text-align: right;\n",
       "    }\n",
       "</style>\n",
       "<table border=\"1\" class=\"dataframe\">\n",
       "  <thead>\n",
       "    <tr style=\"text-align: right;\">\n",
       "      <th></th>\n",
       "      <th>match_code</th>\n",
       "      <th>home</th>\n",
       "      <th>away</th>\n",
       "      <th>actual_score</th>\n",
       "      <th>matchday</th>\n",
       "      <th>stage</th>\n",
       "      <th>stage_detail</th>\n",
       "      <th>match_time</th>\n",
       "    </tr>\n",
       "  </thead>\n",
       "  <tbody>\n",
       "    <tr>\n",
       "      <th>0</th>\n",
       "      <td>M01</td>\n",
       "      <td>Germany</td>\n",
       "      <td>Scotland</td>\n",
       "      <td>1-1</td>\n",
       "      <td>1</td>\n",
       "      <td>Groups</td>\n",
       "      <td>01. Groups - Matchday 1</td>\n",
       "      <td>14/06/2024 20:00:00</td>\n",
       "    </tr>\n",
       "    <tr>\n",
       "      <th>1</th>\n",
       "      <td>M03</td>\n",
       "      <td>Spain</td>\n",
       "      <td>Croatia</td>\n",
       "      <td>2-0</td>\n",
       "      <td>1</td>\n",
       "      <td>Groups</td>\n",
       "      <td>01. Groups - Matchday 1</td>\n",
       "      <td>15/06/2024 17:00:00</td>\n",
       "    </tr>\n",
       "    <tr>\n",
       "      <th>2</th>\n",
       "      <td>M05</td>\n",
       "      <td>Serbia</td>\n",
       "      <td>England</td>\n",
       "      <td>3-0</td>\n",
       "      <td>1</td>\n",
       "      <td>Groups</td>\n",
       "      <td>01. Groups - Matchday 1</td>\n",
       "      <td>16/06/2024 20:00:00</td>\n",
       "    </tr>\n",
       "    <tr>\n",
       "      <th>3</th>\n",
       "      <td>M08</td>\n",
       "      <td>Austria</td>\n",
       "      <td>France</td>\n",
       "      <td>1-3</td>\n",
       "      <td>1</td>\n",
       "      <td>Groups</td>\n",
       "      <td>01. Groups - Matchday 1</td>\n",
       "      <td>17/06/2024 20:00:00</td>\n",
       "    </tr>\n",
       "    <tr>\n",
       "      <th>4</th>\n",
       "      <td>M12</td>\n",
       "      <td>Portugal</td>\n",
       "      <td>Czech Republic</td>\n",
       "      <td>4-1</td>\n",
       "      <td>1</td>\n",
       "      <td>Groups</td>\n",
       "      <td>01. Groups - Matchday 1</td>\n",
       "      <td>18/06/2024 20:00:00</td>\n",
       "    </tr>\n",
       "  </tbody>\n",
       "</table>\n",
       "</div>"
      ],
      "text/plain": [
       "  match_code      home            away actual_score  matchday   stage  \\\n",
       "0        M01   Germany        Scotland          1-1         1  Groups   \n",
       "1        M03     Spain         Croatia          2-0         1  Groups   \n",
       "2        M05    Serbia         England          3-0         1  Groups   \n",
       "3        M08   Austria          France          1-3         1  Groups   \n",
       "4        M12  Portugal  Czech Republic          4-1         1  Groups   \n",
       "\n",
       "              stage_detail           match_time  \n",
       "0  01. Groups - Matchday 1  14/06/2024 20:00:00  \n",
       "1  01. Groups - Matchday 1  15/06/2024 17:00:00  \n",
       "2  01. Groups - Matchday 1  16/06/2024 20:00:00  \n",
       "3  01. Groups - Matchday 1  17/06/2024 20:00:00  \n",
       "4  01. Groups - Matchday 1  18/06/2024 20:00:00  "
      ]
     },
     "execution_count": 125,
     "metadata": {},
     "output_type": "execute_result"
    }
   ],
   "source": [
    "df_results.head()"
   ]
  },
  {
   "cell_type": "code",
   "execution_count": 126,
   "id": "0de839d9-1060-4cc5-a3fc-1c2a77e8af76",
   "metadata": {
    "tags": []
   },
   "outputs": [],
   "source": [
    "# Merge DataFrames based on 'MatchCode', 'Home', and 'Away'\n",
    "df_merged = pd.merge(df_predictions, df_results, on=['match_code', 'home', 'away'], how='inner')"
   ]
  },
  {
   "cell_type": "code",
   "execution_count": 127,
   "id": "b5ec9349-920d-4246-b4ea-c9cf0720bb8b",
   "metadata": {
    "tags": []
   },
   "outputs": [
    {
     "data": {
      "text/html": [
       "<div>\n",
       "<style scoped>\n",
       "    .dataframe tbody tr th:only-of-type {\n",
       "        vertical-align: middle;\n",
       "    }\n",
       "\n",
       "    .dataframe tbody tr th {\n",
       "        vertical-align: top;\n",
       "    }\n",
       "\n",
       "    .dataframe thead th {\n",
       "        text-align: right;\n",
       "    }\n",
       "</style>\n",
       "<table border=\"1\" class=\"dataframe\">\n",
       "  <thead>\n",
       "    <tr style=\"text-align: right;\">\n",
       "      <th></th>\n",
       "      <th>timestamp</th>\n",
       "      <th>name</th>\n",
       "      <th>match_code</th>\n",
       "      <th>home</th>\n",
       "      <th>away</th>\n",
       "      <th>predicted_score</th>\n",
       "      <th>points_multiplier</th>\n",
       "      <th>actual_score</th>\n",
       "      <th>matchday</th>\n",
       "      <th>stage</th>\n",
       "      <th>stage_detail</th>\n",
       "      <th>match_time</th>\n",
       "    </tr>\n",
       "  </thead>\n",
       "  <tbody>\n",
       "    <tr>\n",
       "      <th>0</th>\n",
       "      <td>27/05/2024 20:29:29</td>\n",
       "      <td>Corfe</td>\n",
       "      <td>M01</td>\n",
       "      <td>Germany</td>\n",
       "      <td>Scotland</td>\n",
       "      <td>1-0</td>\n",
       "      <td>2</td>\n",
       "      <td>1-1</td>\n",
       "      <td>1</td>\n",
       "      <td>Groups</td>\n",
       "      <td>01. Groups - Matchday 1</td>\n",
       "      <td>14/06/2024 20:00:00</td>\n",
       "    </tr>\n",
       "    <tr>\n",
       "      <th>1</th>\n",
       "      <td>27/05/2024 20:29:29</td>\n",
       "      <td>Ed</td>\n",
       "      <td>M01</td>\n",
       "      <td>Germany</td>\n",
       "      <td>Scotland</td>\n",
       "      <td>1-0</td>\n",
       "      <td>1</td>\n",
       "      <td>1-1</td>\n",
       "      <td>1</td>\n",
       "      <td>Groups</td>\n",
       "      <td>01. Groups - Matchday 1</td>\n",
       "      <td>14/06/2024 20:00:00</td>\n",
       "    </tr>\n",
       "    <tr>\n",
       "      <th>2</th>\n",
       "      <td>27/05/2024 20:29:29</td>\n",
       "      <td>Jay</td>\n",
       "      <td>M01</td>\n",
       "      <td>Germany</td>\n",
       "      <td>Scotland</td>\n",
       "      <td>1-1</td>\n",
       "      <td>1</td>\n",
       "      <td>1-1</td>\n",
       "      <td>1</td>\n",
       "      <td>Groups</td>\n",
       "      <td>01. Groups - Matchday 1</td>\n",
       "      <td>14/06/2024 20:00:00</td>\n",
       "    </tr>\n",
       "    <tr>\n",
       "      <th>3</th>\n",
       "      <td>27/05/2024 20:29:29</td>\n",
       "      <td>Jonny</td>\n",
       "      <td>M01</td>\n",
       "      <td>Germany</td>\n",
       "      <td>Scotland</td>\n",
       "      <td>1-0</td>\n",
       "      <td>1</td>\n",
       "      <td>1-1</td>\n",
       "      <td>1</td>\n",
       "      <td>Groups</td>\n",
       "      <td>01. Groups - Matchday 1</td>\n",
       "      <td>14/06/2024 20:00:00</td>\n",
       "    </tr>\n",
       "    <tr>\n",
       "      <th>4</th>\n",
       "      <td>27/05/2024 20:29:29</td>\n",
       "      <td>Larry</td>\n",
       "      <td>M01</td>\n",
       "      <td>Germany</td>\n",
       "      <td>Scotland</td>\n",
       "      <td>1-0</td>\n",
       "      <td>1</td>\n",
       "      <td>1-1</td>\n",
       "      <td>1</td>\n",
       "      <td>Groups</td>\n",
       "      <td>01. Groups - Matchday 1</td>\n",
       "      <td>14/06/2024 20:00:00</td>\n",
       "    </tr>\n",
       "  </tbody>\n",
       "</table>\n",
       "</div>"
      ],
      "text/plain": [
       "             timestamp   name match_code     home      away predicted_score  \\\n",
       "0  27/05/2024 20:29:29  Corfe        M01  Germany  Scotland             1-0   \n",
       "1  27/05/2024 20:29:29     Ed        M01  Germany  Scotland             1-0   \n",
       "2  27/05/2024 20:29:29    Jay        M01  Germany  Scotland             1-1   \n",
       "3  27/05/2024 20:29:29  Jonny        M01  Germany  Scotland             1-0   \n",
       "4  27/05/2024 20:29:29  Larry        M01  Germany  Scotland             1-0   \n",
       "\n",
       "   points_multiplier actual_score  matchday   stage             stage_detail  \\\n",
       "0                  2          1-1         1  Groups  01. Groups - Matchday 1   \n",
       "1                  1          1-1         1  Groups  01. Groups - Matchday 1   \n",
       "2                  1          1-1         1  Groups  01. Groups - Matchday 1   \n",
       "3                  1          1-1         1  Groups  01. Groups - Matchday 1   \n",
       "4                  1          1-1         1  Groups  01. Groups - Matchday 1   \n",
       "\n",
       "            match_time  \n",
       "0  14/06/2024 20:00:00  \n",
       "1  14/06/2024 20:00:00  \n",
       "2  14/06/2024 20:00:00  \n",
       "3  14/06/2024 20:00:00  \n",
       "4  14/06/2024 20:00:00  "
      ]
     },
     "execution_count": 127,
     "metadata": {},
     "output_type": "execute_result"
    }
   ],
   "source": [
    "df_merged.head()"
   ]
  },
  {
   "cell_type": "code",
   "execution_count": 128,
   "id": "f8ef69a7-1de9-412a-8a89-e05ab34ebf93",
   "metadata": {
    "tags": []
   },
   "outputs": [],
   "source": [
    "# Create a function to determine predicted outcome\n",
    "def get_predicted_outcome(predicted_score):\n",
    "    home_score, away_score = map(int, predicted_score.split('-'))\n",
    "    if home_score > away_score:\n",
    "        return 'Home'\n",
    "    elif home_score < away_score:\n",
    "        return 'Away'\n",
    "    else:\n",
    "        return 'Draw'"
   ]
  },
  {
   "cell_type": "code",
   "execution_count": 129,
   "id": "13561b37-96b5-4927-9d49-ddf8e70802ef",
   "metadata": {
    "tags": []
   },
   "outputs": [],
   "source": [
    "# Apply the function to create the 'predicted_outcome' column\n",
    "df_merged['predicted_outcome'] = df_merged['predicted_score'].apply(get_predicted_outcome)"
   ]
  },
  {
   "cell_type": "code",
   "execution_count": 130,
   "id": "96459d86-0016-434b-a316-b6996ccf4529",
   "metadata": {
    "tags": []
   },
   "outputs": [
    {
     "data": {
      "text/html": [
       "<div>\n",
       "<style scoped>\n",
       "    .dataframe tbody tr th:only-of-type {\n",
       "        vertical-align: middle;\n",
       "    }\n",
       "\n",
       "    .dataframe tbody tr th {\n",
       "        vertical-align: top;\n",
       "    }\n",
       "\n",
       "    .dataframe thead th {\n",
       "        text-align: right;\n",
       "    }\n",
       "</style>\n",
       "<table border=\"1\" class=\"dataframe\">\n",
       "  <thead>\n",
       "    <tr style=\"text-align: right;\">\n",
       "      <th></th>\n",
       "      <th>timestamp</th>\n",
       "      <th>name</th>\n",
       "      <th>match_code</th>\n",
       "      <th>home</th>\n",
       "      <th>away</th>\n",
       "      <th>predicted_score</th>\n",
       "      <th>points_multiplier</th>\n",
       "      <th>actual_score</th>\n",
       "      <th>matchday</th>\n",
       "      <th>stage</th>\n",
       "      <th>stage_detail</th>\n",
       "      <th>match_time</th>\n",
       "      <th>predicted_outcome</th>\n",
       "    </tr>\n",
       "  </thead>\n",
       "  <tbody>\n",
       "    <tr>\n",
       "      <th>0</th>\n",
       "      <td>27/05/2024 20:29:29</td>\n",
       "      <td>Corfe</td>\n",
       "      <td>M01</td>\n",
       "      <td>Germany</td>\n",
       "      <td>Scotland</td>\n",
       "      <td>1-0</td>\n",
       "      <td>2</td>\n",
       "      <td>1-1</td>\n",
       "      <td>1</td>\n",
       "      <td>Groups</td>\n",
       "      <td>01. Groups - Matchday 1</td>\n",
       "      <td>14/06/2024 20:00:00</td>\n",
       "      <td>Home</td>\n",
       "    </tr>\n",
       "    <tr>\n",
       "      <th>1</th>\n",
       "      <td>27/05/2024 20:29:29</td>\n",
       "      <td>Ed</td>\n",
       "      <td>M01</td>\n",
       "      <td>Germany</td>\n",
       "      <td>Scotland</td>\n",
       "      <td>1-0</td>\n",
       "      <td>1</td>\n",
       "      <td>1-1</td>\n",
       "      <td>1</td>\n",
       "      <td>Groups</td>\n",
       "      <td>01. Groups - Matchday 1</td>\n",
       "      <td>14/06/2024 20:00:00</td>\n",
       "      <td>Home</td>\n",
       "    </tr>\n",
       "    <tr>\n",
       "      <th>2</th>\n",
       "      <td>27/05/2024 20:29:29</td>\n",
       "      <td>Jay</td>\n",
       "      <td>M01</td>\n",
       "      <td>Germany</td>\n",
       "      <td>Scotland</td>\n",
       "      <td>1-1</td>\n",
       "      <td>1</td>\n",
       "      <td>1-1</td>\n",
       "      <td>1</td>\n",
       "      <td>Groups</td>\n",
       "      <td>01. Groups - Matchday 1</td>\n",
       "      <td>14/06/2024 20:00:00</td>\n",
       "      <td>Draw</td>\n",
       "    </tr>\n",
       "    <tr>\n",
       "      <th>3</th>\n",
       "      <td>27/05/2024 20:29:29</td>\n",
       "      <td>Jonny</td>\n",
       "      <td>M01</td>\n",
       "      <td>Germany</td>\n",
       "      <td>Scotland</td>\n",
       "      <td>1-0</td>\n",
       "      <td>1</td>\n",
       "      <td>1-1</td>\n",
       "      <td>1</td>\n",
       "      <td>Groups</td>\n",
       "      <td>01. Groups - Matchday 1</td>\n",
       "      <td>14/06/2024 20:00:00</td>\n",
       "      <td>Home</td>\n",
       "    </tr>\n",
       "    <tr>\n",
       "      <th>4</th>\n",
       "      <td>27/05/2024 20:29:29</td>\n",
       "      <td>Larry</td>\n",
       "      <td>M01</td>\n",
       "      <td>Germany</td>\n",
       "      <td>Scotland</td>\n",
       "      <td>1-0</td>\n",
       "      <td>1</td>\n",
       "      <td>1-1</td>\n",
       "      <td>1</td>\n",
       "      <td>Groups</td>\n",
       "      <td>01. Groups - Matchday 1</td>\n",
       "      <td>14/06/2024 20:00:00</td>\n",
       "      <td>Home</td>\n",
       "    </tr>\n",
       "  </tbody>\n",
       "</table>\n",
       "</div>"
      ],
      "text/plain": [
       "             timestamp   name match_code     home      away predicted_score  \\\n",
       "0  27/05/2024 20:29:29  Corfe        M01  Germany  Scotland             1-0   \n",
       "1  27/05/2024 20:29:29     Ed        M01  Germany  Scotland             1-0   \n",
       "2  27/05/2024 20:29:29    Jay        M01  Germany  Scotland             1-1   \n",
       "3  27/05/2024 20:29:29  Jonny        M01  Germany  Scotland             1-0   \n",
       "4  27/05/2024 20:29:29  Larry        M01  Germany  Scotland             1-0   \n",
       "\n",
       "   points_multiplier actual_score  matchday   stage             stage_detail  \\\n",
       "0                  2          1-1         1  Groups  01. Groups - Matchday 1   \n",
       "1                  1          1-1         1  Groups  01. Groups - Matchday 1   \n",
       "2                  1          1-1         1  Groups  01. Groups - Matchday 1   \n",
       "3                  1          1-1         1  Groups  01. Groups - Matchday 1   \n",
       "4                  1          1-1         1  Groups  01. Groups - Matchday 1   \n",
       "\n",
       "            match_time predicted_outcome  \n",
       "0  14/06/2024 20:00:00              Home  \n",
       "1  14/06/2024 20:00:00              Home  \n",
       "2  14/06/2024 20:00:00              Draw  \n",
       "3  14/06/2024 20:00:00              Home  \n",
       "4  14/06/2024 20:00:00              Home  "
      ]
     },
     "execution_count": 130,
     "metadata": {},
     "output_type": "execute_result"
    }
   ],
   "source": [
    "df_merged.head()"
   ]
  },
  {
   "cell_type": "code",
   "execution_count": 131,
   "id": "6ed57bc2-8b17-4679-ab17-983f9d95783a",
   "metadata": {
    "tags": []
   },
   "outputs": [],
   "source": [
    "# Create a function to determine predicted outcome\n",
    "def get_actual_outcome(actual_score):\n",
    "    home_score, away_score = map(int, actual_score.split('-'))\n",
    "    if home_score > away_score:\n",
    "        return 'Home'\n",
    "    elif home_score < away_score:\n",
    "        return 'Away'\n",
    "    else:\n",
    "        return 'Draw'"
   ]
  },
  {
   "cell_type": "code",
   "execution_count": 132,
   "id": "2d8fddb4-9c61-429b-b4c3-f7c46bc6a872",
   "metadata": {
    "tags": []
   },
   "outputs": [],
   "source": [
    "# Apply the function to create the 'predicted_outcome' column\n",
    "df_merged['actual_outcome'] = df_merged['actual_score'].apply(get_actual_outcome)"
   ]
  },
  {
   "cell_type": "code",
   "execution_count": 133,
   "id": "96fcc646-c607-46f4-b7e4-19fb3d34ca4f",
   "metadata": {
    "tags": []
   },
   "outputs": [
    {
     "data": {
      "text/html": [
       "<div>\n",
       "<style scoped>\n",
       "    .dataframe tbody tr th:only-of-type {\n",
       "        vertical-align: middle;\n",
       "    }\n",
       "\n",
       "    .dataframe tbody tr th {\n",
       "        vertical-align: top;\n",
       "    }\n",
       "\n",
       "    .dataframe thead th {\n",
       "        text-align: right;\n",
       "    }\n",
       "</style>\n",
       "<table border=\"1\" class=\"dataframe\">\n",
       "  <thead>\n",
       "    <tr style=\"text-align: right;\">\n",
       "      <th></th>\n",
       "      <th>timestamp</th>\n",
       "      <th>name</th>\n",
       "      <th>match_code</th>\n",
       "      <th>home</th>\n",
       "      <th>away</th>\n",
       "      <th>predicted_score</th>\n",
       "      <th>points_multiplier</th>\n",
       "      <th>actual_score</th>\n",
       "      <th>matchday</th>\n",
       "      <th>stage</th>\n",
       "      <th>stage_detail</th>\n",
       "      <th>match_time</th>\n",
       "      <th>predicted_outcome</th>\n",
       "      <th>actual_outcome</th>\n",
       "    </tr>\n",
       "  </thead>\n",
       "  <tbody>\n",
       "    <tr>\n",
       "      <th>0</th>\n",
       "      <td>27/05/2024 20:29:29</td>\n",
       "      <td>Corfe</td>\n",
       "      <td>M01</td>\n",
       "      <td>Germany</td>\n",
       "      <td>Scotland</td>\n",
       "      <td>1-0</td>\n",
       "      <td>2</td>\n",
       "      <td>1-1</td>\n",
       "      <td>1</td>\n",
       "      <td>Groups</td>\n",
       "      <td>01. Groups - Matchday 1</td>\n",
       "      <td>14/06/2024 20:00:00</td>\n",
       "      <td>Home</td>\n",
       "      <td>Draw</td>\n",
       "    </tr>\n",
       "    <tr>\n",
       "      <th>1</th>\n",
       "      <td>27/05/2024 20:29:29</td>\n",
       "      <td>Ed</td>\n",
       "      <td>M01</td>\n",
       "      <td>Germany</td>\n",
       "      <td>Scotland</td>\n",
       "      <td>1-0</td>\n",
       "      <td>1</td>\n",
       "      <td>1-1</td>\n",
       "      <td>1</td>\n",
       "      <td>Groups</td>\n",
       "      <td>01. Groups - Matchday 1</td>\n",
       "      <td>14/06/2024 20:00:00</td>\n",
       "      <td>Home</td>\n",
       "      <td>Draw</td>\n",
       "    </tr>\n",
       "    <tr>\n",
       "      <th>2</th>\n",
       "      <td>27/05/2024 20:29:29</td>\n",
       "      <td>Jay</td>\n",
       "      <td>M01</td>\n",
       "      <td>Germany</td>\n",
       "      <td>Scotland</td>\n",
       "      <td>1-1</td>\n",
       "      <td>1</td>\n",
       "      <td>1-1</td>\n",
       "      <td>1</td>\n",
       "      <td>Groups</td>\n",
       "      <td>01. Groups - Matchday 1</td>\n",
       "      <td>14/06/2024 20:00:00</td>\n",
       "      <td>Draw</td>\n",
       "      <td>Draw</td>\n",
       "    </tr>\n",
       "    <tr>\n",
       "      <th>3</th>\n",
       "      <td>27/05/2024 20:29:29</td>\n",
       "      <td>Jonny</td>\n",
       "      <td>M01</td>\n",
       "      <td>Germany</td>\n",
       "      <td>Scotland</td>\n",
       "      <td>1-0</td>\n",
       "      <td>1</td>\n",
       "      <td>1-1</td>\n",
       "      <td>1</td>\n",
       "      <td>Groups</td>\n",
       "      <td>01. Groups - Matchday 1</td>\n",
       "      <td>14/06/2024 20:00:00</td>\n",
       "      <td>Home</td>\n",
       "      <td>Draw</td>\n",
       "    </tr>\n",
       "    <tr>\n",
       "      <th>4</th>\n",
       "      <td>27/05/2024 20:29:29</td>\n",
       "      <td>Larry</td>\n",
       "      <td>M01</td>\n",
       "      <td>Germany</td>\n",
       "      <td>Scotland</td>\n",
       "      <td>1-0</td>\n",
       "      <td>1</td>\n",
       "      <td>1-1</td>\n",
       "      <td>1</td>\n",
       "      <td>Groups</td>\n",
       "      <td>01. Groups - Matchday 1</td>\n",
       "      <td>14/06/2024 20:00:00</td>\n",
       "      <td>Home</td>\n",
       "      <td>Draw</td>\n",
       "    </tr>\n",
       "  </tbody>\n",
       "</table>\n",
       "</div>"
      ],
      "text/plain": [
       "             timestamp   name match_code     home      away predicted_score  \\\n",
       "0  27/05/2024 20:29:29  Corfe        M01  Germany  Scotland             1-0   \n",
       "1  27/05/2024 20:29:29     Ed        M01  Germany  Scotland             1-0   \n",
       "2  27/05/2024 20:29:29    Jay        M01  Germany  Scotland             1-1   \n",
       "3  27/05/2024 20:29:29  Jonny        M01  Germany  Scotland             1-0   \n",
       "4  27/05/2024 20:29:29  Larry        M01  Germany  Scotland             1-0   \n",
       "\n",
       "   points_multiplier actual_score  matchday   stage             stage_detail  \\\n",
       "0                  2          1-1         1  Groups  01. Groups - Matchday 1   \n",
       "1                  1          1-1         1  Groups  01. Groups - Matchday 1   \n",
       "2                  1          1-1         1  Groups  01. Groups - Matchday 1   \n",
       "3                  1          1-1         1  Groups  01. Groups - Matchday 1   \n",
       "4                  1          1-1         1  Groups  01. Groups - Matchday 1   \n",
       "\n",
       "            match_time predicted_outcome actual_outcome  \n",
       "0  14/06/2024 20:00:00              Home           Draw  \n",
       "1  14/06/2024 20:00:00              Home           Draw  \n",
       "2  14/06/2024 20:00:00              Draw           Draw  \n",
       "3  14/06/2024 20:00:00              Home           Draw  \n",
       "4  14/06/2024 20:00:00              Home           Draw  "
      ]
     },
     "execution_count": 133,
     "metadata": {},
     "output_type": "execute_result"
    }
   ],
   "source": [
    "df_merged.head()"
   ]
  },
  {
   "cell_type": "code",
   "execution_count": 134,
   "id": "ff6c1c78-bbbc-4fe5-8e99-ded367f15e25",
   "metadata": {
    "tags": []
   },
   "outputs": [],
   "source": [
    "# Create a function to calculate points\n",
    "def calculate_points(predicted_score, actual_score, predicted_outcome, actual_outcome):\n",
    "    home_pred, away_pred = map(int, predicted_score.split('-'))\n",
    "    home_res, away_res = map(int, predicted_score.split('-'))\n",
    "\n",
    "    if predicted_score == actual_score:\n",
    "        return 3\n",
    "    elif predicted_outcome == actual_outcome:\n",
    "        return 1\n",
    "    else:\n",
    "        return 0"
   ]
  },
  {
   "cell_type": "code",
   "execution_count": 135,
   "id": "0f2a833d-08fe-410d-90bb-6c8e8c8f677a",
   "metadata": {
    "tags": []
   },
   "outputs": [
    {
     "data": {
      "text/html": [
       "<div>\n",
       "<style scoped>\n",
       "    .dataframe tbody tr th:only-of-type {\n",
       "        vertical-align: middle;\n",
       "    }\n",
       "\n",
       "    .dataframe tbody tr th {\n",
       "        vertical-align: top;\n",
       "    }\n",
       "\n",
       "    .dataframe thead th {\n",
       "        text-align: right;\n",
       "    }\n",
       "</style>\n",
       "<table border=\"1\" class=\"dataframe\">\n",
       "  <thead>\n",
       "    <tr style=\"text-align: right;\">\n",
       "      <th></th>\n",
       "      <th>timestamp</th>\n",
       "      <th>name</th>\n",
       "      <th>match_code</th>\n",
       "      <th>home</th>\n",
       "      <th>away</th>\n",
       "      <th>predicted_score</th>\n",
       "      <th>points_multiplier</th>\n",
       "      <th>actual_score</th>\n",
       "      <th>matchday</th>\n",
       "      <th>stage</th>\n",
       "      <th>stage_detail</th>\n",
       "      <th>match_time</th>\n",
       "      <th>predicted_outcome</th>\n",
       "      <th>actual_outcome</th>\n",
       "    </tr>\n",
       "  </thead>\n",
       "  <tbody>\n",
       "    <tr>\n",
       "      <th>0</th>\n",
       "      <td>27/05/2024 20:29:29</td>\n",
       "      <td>Corfe</td>\n",
       "      <td>M01</td>\n",
       "      <td>Germany</td>\n",
       "      <td>Scotland</td>\n",
       "      <td>1-0</td>\n",
       "      <td>2</td>\n",
       "      <td>1-1</td>\n",
       "      <td>1</td>\n",
       "      <td>Groups</td>\n",
       "      <td>01. Groups - Matchday 1</td>\n",
       "      <td>14/06/2024 20:00:00</td>\n",
       "      <td>Home</td>\n",
       "      <td>Draw</td>\n",
       "    </tr>\n",
       "    <tr>\n",
       "      <th>1</th>\n",
       "      <td>27/05/2024 20:29:29</td>\n",
       "      <td>Ed</td>\n",
       "      <td>M01</td>\n",
       "      <td>Germany</td>\n",
       "      <td>Scotland</td>\n",
       "      <td>1-0</td>\n",
       "      <td>1</td>\n",
       "      <td>1-1</td>\n",
       "      <td>1</td>\n",
       "      <td>Groups</td>\n",
       "      <td>01. Groups - Matchday 1</td>\n",
       "      <td>14/06/2024 20:00:00</td>\n",
       "      <td>Home</td>\n",
       "      <td>Draw</td>\n",
       "    </tr>\n",
       "    <tr>\n",
       "      <th>2</th>\n",
       "      <td>27/05/2024 20:29:29</td>\n",
       "      <td>Jay</td>\n",
       "      <td>M01</td>\n",
       "      <td>Germany</td>\n",
       "      <td>Scotland</td>\n",
       "      <td>1-1</td>\n",
       "      <td>1</td>\n",
       "      <td>1-1</td>\n",
       "      <td>1</td>\n",
       "      <td>Groups</td>\n",
       "      <td>01. Groups - Matchday 1</td>\n",
       "      <td>14/06/2024 20:00:00</td>\n",
       "      <td>Draw</td>\n",
       "      <td>Draw</td>\n",
       "    </tr>\n",
       "    <tr>\n",
       "      <th>3</th>\n",
       "      <td>27/05/2024 20:29:29</td>\n",
       "      <td>Jonny</td>\n",
       "      <td>M01</td>\n",
       "      <td>Germany</td>\n",
       "      <td>Scotland</td>\n",
       "      <td>1-0</td>\n",
       "      <td>1</td>\n",
       "      <td>1-1</td>\n",
       "      <td>1</td>\n",
       "      <td>Groups</td>\n",
       "      <td>01. Groups - Matchday 1</td>\n",
       "      <td>14/06/2024 20:00:00</td>\n",
       "      <td>Home</td>\n",
       "      <td>Draw</td>\n",
       "    </tr>\n",
       "    <tr>\n",
       "      <th>4</th>\n",
       "      <td>27/05/2024 20:29:29</td>\n",
       "      <td>Larry</td>\n",
       "      <td>M01</td>\n",
       "      <td>Germany</td>\n",
       "      <td>Scotland</td>\n",
       "      <td>1-0</td>\n",
       "      <td>1</td>\n",
       "      <td>1-1</td>\n",
       "      <td>1</td>\n",
       "      <td>Groups</td>\n",
       "      <td>01. Groups - Matchday 1</td>\n",
       "      <td>14/06/2024 20:00:00</td>\n",
       "      <td>Home</td>\n",
       "      <td>Draw</td>\n",
       "    </tr>\n",
       "  </tbody>\n",
       "</table>\n",
       "</div>"
      ],
      "text/plain": [
       "             timestamp   name match_code     home      away predicted_score  \\\n",
       "0  27/05/2024 20:29:29  Corfe        M01  Germany  Scotland             1-0   \n",
       "1  27/05/2024 20:29:29     Ed        M01  Germany  Scotland             1-0   \n",
       "2  27/05/2024 20:29:29    Jay        M01  Germany  Scotland             1-1   \n",
       "3  27/05/2024 20:29:29  Jonny        M01  Germany  Scotland             1-0   \n",
       "4  27/05/2024 20:29:29  Larry        M01  Germany  Scotland             1-0   \n",
       "\n",
       "   points_multiplier actual_score  matchday   stage             stage_detail  \\\n",
       "0                  2          1-1         1  Groups  01. Groups - Matchday 1   \n",
       "1                  1          1-1         1  Groups  01. Groups - Matchday 1   \n",
       "2                  1          1-1         1  Groups  01. Groups - Matchday 1   \n",
       "3                  1          1-1         1  Groups  01. Groups - Matchday 1   \n",
       "4                  1          1-1         1  Groups  01. Groups - Matchday 1   \n",
       "\n",
       "            match_time predicted_outcome actual_outcome  \n",
       "0  14/06/2024 20:00:00              Home           Draw  \n",
       "1  14/06/2024 20:00:00              Home           Draw  \n",
       "2  14/06/2024 20:00:00              Draw           Draw  \n",
       "3  14/06/2024 20:00:00              Home           Draw  \n",
       "4  14/06/2024 20:00:00              Home           Draw  "
      ]
     },
     "execution_count": 135,
     "metadata": {},
     "output_type": "execute_result"
    }
   ],
   "source": [
    "df_merged.head()"
   ]
  },
  {
   "cell_type": "code",
   "execution_count": 231,
   "id": "5448d8aa-b4ea-40b0-bb83-35670c595d88",
   "metadata": {
    "tags": []
   },
   "outputs": [],
   "source": [
    "# Apply the function to create the 'Points' column\n",
    "df_merged['base_points'] = df_merged.apply(lambda row: calculate_points(row['predicted_score'], row['actual_score'], row['predicted_outcome'], row['actual_outcome']), axis=1)\n",
    "df_merged['total_points'] = df_merged['base_points'] * df_merged['points_multiplier']\n",
    "\n",
    "df_merged.to_csv('data/df_merged.csv')"
   ]
  },
  {
   "cell_type": "code",
   "execution_count": 137,
   "id": "90753212-5a6a-4cd8-9a82-98df95e1bb09",
   "metadata": {
    "tags": []
   },
   "outputs": [
    {
     "data": {
      "text/html": [
       "<div>\n",
       "<style scoped>\n",
       "    .dataframe tbody tr th:only-of-type {\n",
       "        vertical-align: middle;\n",
       "    }\n",
       "\n",
       "    .dataframe tbody tr th {\n",
       "        vertical-align: top;\n",
       "    }\n",
       "\n",
       "    .dataframe thead th {\n",
       "        text-align: right;\n",
       "    }\n",
       "</style>\n",
       "<table border=\"1\" class=\"dataframe\">\n",
       "  <thead>\n",
       "    <tr style=\"text-align: right;\">\n",
       "      <th></th>\n",
       "      <th>timestamp</th>\n",
       "      <th>name</th>\n",
       "      <th>match_code</th>\n",
       "      <th>home</th>\n",
       "      <th>away</th>\n",
       "      <th>predicted_score</th>\n",
       "      <th>points_multiplier</th>\n",
       "      <th>actual_score</th>\n",
       "      <th>matchday</th>\n",
       "      <th>stage</th>\n",
       "      <th>stage_detail</th>\n",
       "      <th>match_time</th>\n",
       "      <th>predicted_outcome</th>\n",
       "      <th>actual_outcome</th>\n",
       "      <th>base_points</th>\n",
       "      <th>total_points</th>\n",
       "    </tr>\n",
       "  </thead>\n",
       "  <tbody>\n",
       "    <tr>\n",
       "      <th>0</th>\n",
       "      <td>27/05/2024 20:29:29</td>\n",
       "      <td>Corfe</td>\n",
       "      <td>M01</td>\n",
       "      <td>Germany</td>\n",
       "      <td>Scotland</td>\n",
       "      <td>1-0</td>\n",
       "      <td>2</td>\n",
       "      <td>1-1</td>\n",
       "      <td>1</td>\n",
       "      <td>Groups</td>\n",
       "      <td>01. Groups - Matchday 1</td>\n",
       "      <td>14/06/2024 20:00:00</td>\n",
       "      <td>Home</td>\n",
       "      <td>Draw</td>\n",
       "      <td>0</td>\n",
       "      <td>0</td>\n",
       "    </tr>\n",
       "    <tr>\n",
       "      <th>1</th>\n",
       "      <td>27/05/2024 20:29:29</td>\n",
       "      <td>Ed</td>\n",
       "      <td>M01</td>\n",
       "      <td>Germany</td>\n",
       "      <td>Scotland</td>\n",
       "      <td>1-0</td>\n",
       "      <td>1</td>\n",
       "      <td>1-1</td>\n",
       "      <td>1</td>\n",
       "      <td>Groups</td>\n",
       "      <td>01. Groups - Matchday 1</td>\n",
       "      <td>14/06/2024 20:00:00</td>\n",
       "      <td>Home</td>\n",
       "      <td>Draw</td>\n",
       "      <td>0</td>\n",
       "      <td>0</td>\n",
       "    </tr>\n",
       "    <tr>\n",
       "      <th>2</th>\n",
       "      <td>27/05/2024 20:29:29</td>\n",
       "      <td>Jay</td>\n",
       "      <td>M01</td>\n",
       "      <td>Germany</td>\n",
       "      <td>Scotland</td>\n",
       "      <td>1-1</td>\n",
       "      <td>1</td>\n",
       "      <td>1-1</td>\n",
       "      <td>1</td>\n",
       "      <td>Groups</td>\n",
       "      <td>01. Groups - Matchday 1</td>\n",
       "      <td>14/06/2024 20:00:00</td>\n",
       "      <td>Draw</td>\n",
       "      <td>Draw</td>\n",
       "      <td>3</td>\n",
       "      <td>3</td>\n",
       "    </tr>\n",
       "    <tr>\n",
       "      <th>3</th>\n",
       "      <td>27/05/2024 20:29:29</td>\n",
       "      <td>Jonny</td>\n",
       "      <td>M01</td>\n",
       "      <td>Germany</td>\n",
       "      <td>Scotland</td>\n",
       "      <td>1-0</td>\n",
       "      <td>1</td>\n",
       "      <td>1-1</td>\n",
       "      <td>1</td>\n",
       "      <td>Groups</td>\n",
       "      <td>01. Groups - Matchday 1</td>\n",
       "      <td>14/06/2024 20:00:00</td>\n",
       "      <td>Home</td>\n",
       "      <td>Draw</td>\n",
       "      <td>0</td>\n",
       "      <td>0</td>\n",
       "    </tr>\n",
       "    <tr>\n",
       "      <th>4</th>\n",
       "      <td>27/05/2024 20:29:29</td>\n",
       "      <td>Larry</td>\n",
       "      <td>M01</td>\n",
       "      <td>Germany</td>\n",
       "      <td>Scotland</td>\n",
       "      <td>1-0</td>\n",
       "      <td>1</td>\n",
       "      <td>1-1</td>\n",
       "      <td>1</td>\n",
       "      <td>Groups</td>\n",
       "      <td>01. Groups - Matchday 1</td>\n",
       "      <td>14/06/2024 20:00:00</td>\n",
       "      <td>Home</td>\n",
       "      <td>Draw</td>\n",
       "      <td>0</td>\n",
       "      <td>0</td>\n",
       "    </tr>\n",
       "    <tr>\n",
       "      <th>...</th>\n",
       "      <td>...</td>\n",
       "      <td>...</td>\n",
       "      <td>...</td>\n",
       "      <td>...</td>\n",
       "      <td>...</td>\n",
       "      <td>...</td>\n",
       "      <td>...</td>\n",
       "      <td>...</td>\n",
       "      <td>...</td>\n",
       "      <td>...</td>\n",
       "      <td>...</td>\n",
       "      <td>...</td>\n",
       "      <td>...</td>\n",
       "      <td>...</td>\n",
       "      <td>...</td>\n",
       "      <td>...</td>\n",
       "    </tr>\n",
       "    <tr>\n",
       "      <th>85</th>\n",
       "      <td>27/05/2024 20:29:29</td>\n",
       "      <td>Larry</td>\n",
       "      <td>M22</td>\n",
       "      <td>Belgium</td>\n",
       "      <td>Romania</td>\n",
       "      <td>4-0</td>\n",
       "      <td>1</td>\n",
       "      <td>1-2</td>\n",
       "      <td>2</td>\n",
       "      <td>Groups</td>\n",
       "      <td>02. Groups - Matchday 2</td>\n",
       "      <td>22/06/2024 20:00:00</td>\n",
       "      <td>Home</td>\n",
       "      <td>Away</td>\n",
       "      <td>0</td>\n",
       "      <td>0</td>\n",
       "    </tr>\n",
       "    <tr>\n",
       "      <th>86</th>\n",
       "      <td>27/05/2024 20:29:29</td>\n",
       "      <td>Luke</td>\n",
       "      <td>M22</td>\n",
       "      <td>Belgium</td>\n",
       "      <td>Romania</td>\n",
       "      <td>0-0</td>\n",
       "      <td>1</td>\n",
       "      <td>1-2</td>\n",
       "      <td>2</td>\n",
       "      <td>Groups</td>\n",
       "      <td>02. Groups - Matchday 2</td>\n",
       "      <td>22/06/2024 20:00:00</td>\n",
       "      <td>Draw</td>\n",
       "      <td>Away</td>\n",
       "      <td>0</td>\n",
       "      <td>0</td>\n",
       "    </tr>\n",
       "    <tr>\n",
       "      <th>87</th>\n",
       "      <td>27/05/2024 20:29:29</td>\n",
       "      <td>Marc</td>\n",
       "      <td>M22</td>\n",
       "      <td>Belgium</td>\n",
       "      <td>Romania</td>\n",
       "      <td>1-1</td>\n",
       "      <td>1</td>\n",
       "      <td>1-2</td>\n",
       "      <td>2</td>\n",
       "      <td>Groups</td>\n",
       "      <td>02. Groups - Matchday 2</td>\n",
       "      <td>22/06/2024 20:00:00</td>\n",
       "      <td>Draw</td>\n",
       "      <td>Away</td>\n",
       "      <td>0</td>\n",
       "      <td>0</td>\n",
       "    </tr>\n",
       "    <tr>\n",
       "      <th>88</th>\n",
       "      <td>27/05/2024 20:29:29</td>\n",
       "      <td>Tom</td>\n",
       "      <td>M22</td>\n",
       "      <td>Belgium</td>\n",
       "      <td>Romania</td>\n",
       "      <td>1-1</td>\n",
       "      <td>1</td>\n",
       "      <td>1-2</td>\n",
       "      <td>2</td>\n",
       "      <td>Groups</td>\n",
       "      <td>02. Groups - Matchday 2</td>\n",
       "      <td>22/06/2024 20:00:00</td>\n",
       "      <td>Draw</td>\n",
       "      <td>Away</td>\n",
       "      <td>0</td>\n",
       "      <td>0</td>\n",
       "    </tr>\n",
       "    <tr>\n",
       "      <th>89</th>\n",
       "      <td>27/05/2024 20:29:29</td>\n",
       "      <td>Rando Randal</td>\n",
       "      <td>M22</td>\n",
       "      <td>Belgium</td>\n",
       "      <td>Romania</td>\n",
       "      <td>1-1</td>\n",
       "      <td>1</td>\n",
       "      <td>1-2</td>\n",
       "      <td>2</td>\n",
       "      <td>Groups</td>\n",
       "      <td>02. Groups - Matchday 2</td>\n",
       "      <td>22/06/2024 20:00:00</td>\n",
       "      <td>Draw</td>\n",
       "      <td>Away</td>\n",
       "      <td>0</td>\n",
       "      <td>0</td>\n",
       "    </tr>\n",
       "  </tbody>\n",
       "</table>\n",
       "<p>90 rows × 16 columns</p>\n",
       "</div>"
      ],
      "text/plain": [
       "              timestamp          name match_code     home      away  \\\n",
       "0   27/05/2024 20:29:29         Corfe        M01  Germany  Scotland   \n",
       "1   27/05/2024 20:29:29            Ed        M01  Germany  Scotland   \n",
       "2   27/05/2024 20:29:29           Jay        M01  Germany  Scotland   \n",
       "3   27/05/2024 20:29:29         Jonny        M01  Germany  Scotland   \n",
       "4   27/05/2024 20:29:29         Larry        M01  Germany  Scotland   \n",
       "..                  ...           ...        ...      ...       ...   \n",
       "85  27/05/2024 20:29:29         Larry        M22  Belgium   Romania   \n",
       "86  27/05/2024 20:29:29          Luke        M22  Belgium   Romania   \n",
       "87  27/05/2024 20:29:29          Marc        M22  Belgium   Romania   \n",
       "88  27/05/2024 20:29:29           Tom        M22  Belgium   Romania   \n",
       "89  27/05/2024 20:29:29  Rando Randal        M22  Belgium   Romania   \n",
       "\n",
       "   predicted_score  points_multiplier actual_score  matchday   stage  \\\n",
       "0              1-0                  2          1-1         1  Groups   \n",
       "1              1-0                  1          1-1         1  Groups   \n",
       "2              1-1                  1          1-1         1  Groups   \n",
       "3              1-0                  1          1-1         1  Groups   \n",
       "4              1-0                  1          1-1         1  Groups   \n",
       "..             ...                ...          ...       ...     ...   \n",
       "85             4-0                  1          1-2         2  Groups   \n",
       "86             0-0                  1          1-2         2  Groups   \n",
       "87             1-1                  1          1-2         2  Groups   \n",
       "88             1-1                  1          1-2         2  Groups   \n",
       "89             1-1                  1          1-2         2  Groups   \n",
       "\n",
       "               stage_detail           match_time predicted_outcome  \\\n",
       "0   01. Groups - Matchday 1  14/06/2024 20:00:00              Home   \n",
       "1   01. Groups - Matchday 1  14/06/2024 20:00:00              Home   \n",
       "2   01. Groups - Matchday 1  14/06/2024 20:00:00              Draw   \n",
       "3   01. Groups - Matchday 1  14/06/2024 20:00:00              Home   \n",
       "4   01. Groups - Matchday 1  14/06/2024 20:00:00              Home   \n",
       "..                      ...                  ...               ...   \n",
       "85  02. Groups - Matchday 2  22/06/2024 20:00:00              Home   \n",
       "86  02. Groups - Matchday 2  22/06/2024 20:00:00              Draw   \n",
       "87  02. Groups - Matchday 2  22/06/2024 20:00:00              Draw   \n",
       "88  02. Groups - Matchday 2  22/06/2024 20:00:00              Draw   \n",
       "89  02. Groups - Matchday 2  22/06/2024 20:00:00              Draw   \n",
       "\n",
       "   actual_outcome  base_points  total_points  \n",
       "0            Draw            0             0  \n",
       "1            Draw            0             0  \n",
       "2            Draw            3             3  \n",
       "3            Draw            0             0  \n",
       "4            Draw            0             0  \n",
       "..            ...          ...           ...  \n",
       "85           Away            0             0  \n",
       "86           Away            0             0  \n",
       "87           Away            0             0  \n",
       "88           Away            0             0  \n",
       "89           Away            0             0  \n",
       "\n",
       "[90 rows x 16 columns]"
      ]
     },
     "execution_count": 137,
     "metadata": {},
     "output_type": "execute_result"
    }
   ],
   "source": [
    "df_merged"
   ]
  },
  {
   "cell_type": "code",
   "execution_count": 138,
   "id": "5c19d8cc-8c05-45ed-9c93-aef5194825a8",
   "metadata": {
    "tags": []
   },
   "outputs": [],
   "source": [
    "# Group the DataFrame by 'name' and sum the 'Points' for each group\n",
    "points_by_name = df_merged.groupby('name').agg({'base_points': 'sum', 'total_points': 'sum'}).reset_index()\n",
    "points_by_name = points_by_name.sort_values(by='total_points', ascending=False)"
   ]
  },
  {
   "cell_type": "code",
   "execution_count": 139,
   "id": "8553edad-0505-4a10-a320-22e7efd96542",
   "metadata": {
    "tags": []
   },
   "outputs": [
    {
     "name": "stdout",
     "output_type": "stream",
     "text": [
      "           name  base_points  total_points\n",
      "2           Jay            9            10\n",
      "1            Ed            6             9\n",
      "0         Corfe            6             7\n",
      "8           Tom            6             7\n",
      "3         Jonny            3             5\n",
      "4         Larry            3             5\n",
      "6          Marc            2             3\n",
      "7  Rando Randal            2             3\n",
      "5          Luke            2             2\n"
     ]
    }
   ],
   "source": [
    "print(points_by_name)"
   ]
  },
  {
   "cell_type": "code",
   "execution_count": 149,
   "id": "775fa9fe",
   "metadata": {},
   "outputs": [
    {
     "data": {
      "text/html": [
       "<div>\n",
       "<style scoped>\n",
       "    .dataframe tbody tr th:only-of-type {\n",
       "        vertical-align: middle;\n",
       "    }\n",
       "\n",
       "    .dataframe tbody tr th {\n",
       "        vertical-align: top;\n",
       "    }\n",
       "\n",
       "    .dataframe thead th {\n",
       "        text-align: right;\n",
       "    }\n",
       "</style>\n",
       "<table border=\"1\" class=\"dataframe\">\n",
       "  <thead>\n",
       "    <tr style=\"text-align: right;\">\n",
       "      <th></th>\n",
       "      <th>name</th>\n",
       "      <th>matchday</th>\n",
       "      <th>stage_detail</th>\n",
       "      <th>base_points</th>\n",
       "      <th>total_points</th>\n",
       "    </tr>\n",
       "  </thead>\n",
       "  <tbody>\n",
       "    <tr>\n",
       "      <th>0</th>\n",
       "      <td>Corfe</td>\n",
       "      <td>1</td>\n",
       "      <td>01. Groups - Matchday 1</td>\n",
       "      <td>2</td>\n",
       "      <td>2</td>\n",
       "    </tr>\n",
       "    <tr>\n",
       "      <th>1</th>\n",
       "      <td>Corfe</td>\n",
       "      <td>2</td>\n",
       "      <td>02. Groups - Matchday 2</td>\n",
       "      <td>4</td>\n",
       "      <td>5</td>\n",
       "    </tr>\n",
       "    <tr>\n",
       "      <th>2</th>\n",
       "      <td>Ed</td>\n",
       "      <td>1</td>\n",
       "      <td>01. Groups - Matchday 1</td>\n",
       "      <td>4</td>\n",
       "      <td>7</td>\n",
       "    </tr>\n",
       "    <tr>\n",
       "      <th>3</th>\n",
       "      <td>Ed</td>\n",
       "      <td>2</td>\n",
       "      <td>02. Groups - Matchday 2</td>\n",
       "      <td>2</td>\n",
       "      <td>2</td>\n",
       "    </tr>\n",
       "    <tr>\n",
       "      <th>4</th>\n",
       "      <td>Jay</td>\n",
       "      <td>1</td>\n",
       "      <td>01. Groups - Matchday 1</td>\n",
       "      <td>5</td>\n",
       "      <td>5</td>\n",
       "    </tr>\n",
       "    <tr>\n",
       "      <th>5</th>\n",
       "      <td>Jay</td>\n",
       "      <td>2</td>\n",
       "      <td>02. Groups - Matchday 2</td>\n",
       "      <td>4</td>\n",
       "      <td>5</td>\n",
       "    </tr>\n",
       "    <tr>\n",
       "      <th>6</th>\n",
       "      <td>Jonny</td>\n",
       "      <td>1</td>\n",
       "      <td>01. Groups - Matchday 1</td>\n",
       "      <td>1</td>\n",
       "      <td>2</td>\n",
       "    </tr>\n",
       "    <tr>\n",
       "      <th>7</th>\n",
       "      <td>Jonny</td>\n",
       "      <td>2</td>\n",
       "      <td>02. Groups - Matchday 2</td>\n",
       "      <td>2</td>\n",
       "      <td>3</td>\n",
       "    </tr>\n",
       "    <tr>\n",
       "      <th>8</th>\n",
       "      <td>Larry</td>\n",
       "      <td>1</td>\n",
       "      <td>01. Groups - Matchday 1</td>\n",
       "      <td>2</td>\n",
       "      <td>3</td>\n",
       "    </tr>\n",
       "    <tr>\n",
       "      <th>9</th>\n",
       "      <td>Larry</td>\n",
       "      <td>2</td>\n",
       "      <td>02. Groups - Matchday 2</td>\n",
       "      <td>1</td>\n",
       "      <td>2</td>\n",
       "    </tr>\n",
       "    <tr>\n",
       "      <th>10</th>\n",
       "      <td>Luke</td>\n",
       "      <td>1</td>\n",
       "      <td>01. Groups - Matchday 1</td>\n",
       "      <td>1</td>\n",
       "      <td>1</td>\n",
       "    </tr>\n",
       "    <tr>\n",
       "      <th>11</th>\n",
       "      <td>Luke</td>\n",
       "      <td>2</td>\n",
       "      <td>02. Groups - Matchday 2</td>\n",
       "      <td>1</td>\n",
       "      <td>1</td>\n",
       "    </tr>\n",
       "    <tr>\n",
       "      <th>12</th>\n",
       "      <td>Marc</td>\n",
       "      <td>1</td>\n",
       "      <td>01. Groups - Matchday 1</td>\n",
       "      <td>1</td>\n",
       "      <td>1</td>\n",
       "    </tr>\n",
       "    <tr>\n",
       "      <th>13</th>\n",
       "      <td>Marc</td>\n",
       "      <td>2</td>\n",
       "      <td>02. Groups - Matchday 2</td>\n",
       "      <td>1</td>\n",
       "      <td>2</td>\n",
       "    </tr>\n",
       "    <tr>\n",
       "      <th>14</th>\n",
       "      <td>Rando Randal</td>\n",
       "      <td>1</td>\n",
       "      <td>01. Groups - Matchday 1</td>\n",
       "      <td>1</td>\n",
       "      <td>1</td>\n",
       "    </tr>\n",
       "    <tr>\n",
       "      <th>15</th>\n",
       "      <td>Rando Randal</td>\n",
       "      <td>2</td>\n",
       "      <td>02. Groups - Matchday 2</td>\n",
       "      <td>1</td>\n",
       "      <td>2</td>\n",
       "    </tr>\n",
       "    <tr>\n",
       "      <th>16</th>\n",
       "      <td>Tom</td>\n",
       "      <td>1</td>\n",
       "      <td>01. Groups - Matchday 1</td>\n",
       "      <td>3</td>\n",
       "      <td>3</td>\n",
       "    </tr>\n",
       "    <tr>\n",
       "      <th>17</th>\n",
       "      <td>Tom</td>\n",
       "      <td>2</td>\n",
       "      <td>02. Groups - Matchday 2</td>\n",
       "      <td>3</td>\n",
       "      <td>4</td>\n",
       "    </tr>\n",
       "  </tbody>\n",
       "</table>\n",
       "</div>"
      ],
      "text/plain": [
       "            name  matchday             stage_detail  base_points  total_points\n",
       "0          Corfe         1  01. Groups - Matchday 1            2             2\n",
       "1          Corfe         2  02. Groups - Matchday 2            4             5\n",
       "2             Ed         1  01. Groups - Matchday 1            4             7\n",
       "3             Ed         2  02. Groups - Matchday 2            2             2\n",
       "4            Jay         1  01. Groups - Matchday 1            5             5\n",
       "5            Jay         2  02. Groups - Matchday 2            4             5\n",
       "6          Jonny         1  01. Groups - Matchday 1            1             2\n",
       "7          Jonny         2  02. Groups - Matchday 2            2             3\n",
       "8          Larry         1  01. Groups - Matchday 1            2             3\n",
       "9          Larry         2  02. Groups - Matchday 2            1             2\n",
       "10          Luke         1  01. Groups - Matchday 1            1             1\n",
       "11          Luke         2  02. Groups - Matchday 2            1             1\n",
       "12          Marc         1  01. Groups - Matchday 1            1             1\n",
       "13          Marc         2  02. Groups - Matchday 2            1             2\n",
       "14  Rando Randal         1  01. Groups - Matchday 1            1             1\n",
       "15  Rando Randal         2  02. Groups - Matchday 2            1             2\n",
       "16           Tom         1  01. Groups - Matchday 1            3             3\n",
       "17           Tom         2  02. Groups - Matchday 2            3             4"
      ]
     },
     "execution_count": 149,
     "metadata": {},
     "output_type": "execute_result"
    }
   ],
   "source": [
    "points_by_name_stage = df_merged.groupby(['name', 'matchday', 'stage_detail']).agg({'base_points': 'sum', 'total_points': 'sum'}).reset_index()\n",
    "points_by_name_stage"
   ]
  },
  {
   "cell_type": "code",
   "execution_count": 150,
   "id": "18d44396",
   "metadata": {},
   "outputs": [],
   "source": [
    "points_by_name_stage.to_csv('data/points_by_name_stage.csv')\n",
    "points_by_name.to_csv('data/points_by_name.csv')"
   ]
  },
  {
   "cell_type": "code",
   "execution_count": 151,
   "id": "7cb7bf82-f86e-49eb-882f-0131cc6431ac",
   "metadata": {
    "tags": []
   },
   "outputs": [
    {
     "data": {
      "application/vnd.plotly.v1+json": {
       "config": {
        "plotlyServerURL": "https://plot.ly"
       },
       "data": [
        {
         "alignmentgroup": "True",
         "hovertemplate": "Name=%{x}<br>total_points=%{y}<extra></extra>",
         "legendgroup": "Jay",
         "marker": {
          "color": "#ffd700",
          "pattern": {
           "shape": ""
          }
         },
         "name": "Jay",
         "offsetgroup": "Jay",
         "orientation": "v",
         "showlegend": true,
         "textposition": "auto",
         "type": "bar",
         "x": [
          "Jay"
         ],
         "xaxis": "x",
         "y": [
          10
         ],
         "yaxis": "y"
        },
        {
         "alignmentgroup": "True",
         "hovertemplate": "Name=%{x}<br>total_points=%{y}<extra></extra>",
         "legendgroup": "Ed",
         "marker": {
          "color": "#C0C0C0",
          "pattern": {
           "shape": ""
          }
         },
         "name": "Ed",
         "offsetgroup": "Ed",
         "orientation": "v",
         "showlegend": true,
         "textposition": "auto",
         "type": "bar",
         "x": [
          "Ed"
         ],
         "xaxis": "x",
         "y": [
          9
         ],
         "yaxis": "y"
        },
        {
         "alignmentgroup": "True",
         "hovertemplate": "Name=%{x}<br>total_points=%{y}<extra></extra>",
         "legendgroup": "Corfe",
         "marker": {
          "color": "#B87333",
          "pattern": {
           "shape": ""
          }
         },
         "name": "Corfe",
         "offsetgroup": "Corfe",
         "orientation": "v",
         "showlegend": true,
         "textposition": "auto",
         "type": "bar",
         "x": [
          "Corfe"
         ],
         "xaxis": "x",
         "y": [
          7
         ],
         "yaxis": "y"
        },
        {
         "alignmentgroup": "True",
         "hovertemplate": "Name=%{x}<br>total_points=%{y}<extra></extra>",
         "legendgroup": "Tom",
         "marker": {
          "color": "#8850be",
          "pattern": {
           "shape": ""
          }
         },
         "name": "Tom",
         "offsetgroup": "Tom",
         "orientation": "v",
         "showlegend": true,
         "textposition": "auto",
         "type": "bar",
         "x": [
          "Tom"
         ],
         "xaxis": "x",
         "y": [
          7
         ],
         "yaxis": "y"
        },
        {
         "alignmentgroup": "True",
         "hovertemplate": "Name=%{x}<br>total_points=%{y}<extra></extra>",
         "legendgroup": "Jonny",
         "marker": {
          "color": "#8850be",
          "pattern": {
           "shape": ""
          }
         },
         "name": "Jonny",
         "offsetgroup": "Jonny",
         "orientation": "v",
         "showlegend": true,
         "textposition": "auto",
         "type": "bar",
         "x": [
          "Jonny"
         ],
         "xaxis": "x",
         "y": [
          5
         ],
         "yaxis": "y"
        },
        {
         "alignmentgroup": "True",
         "hovertemplate": "Name=%{x}<br>total_points=%{y}<extra></extra>",
         "legendgroup": "Larry",
         "marker": {
          "color": "#8850be",
          "pattern": {
           "shape": ""
          }
         },
         "name": "Larry",
         "offsetgroup": "Larry",
         "orientation": "v",
         "showlegend": true,
         "textposition": "auto",
         "type": "bar",
         "x": [
          "Larry"
         ],
         "xaxis": "x",
         "y": [
          5
         ],
         "yaxis": "y"
        },
        {
         "alignmentgroup": "True",
         "hovertemplate": "Name=%{x}<br>total_points=%{y}<extra></extra>",
         "legendgroup": "Marc",
         "marker": {
          "color": "#8850be",
          "pattern": {
           "shape": ""
          }
         },
         "name": "Marc",
         "offsetgroup": "Marc",
         "orientation": "v",
         "showlegend": true,
         "textposition": "auto",
         "type": "bar",
         "x": [
          "Marc"
         ],
         "xaxis": "x",
         "y": [
          3
         ],
         "yaxis": "y"
        },
        {
         "alignmentgroup": "True",
         "hovertemplate": "Name=%{x}<br>total_points=%{y}<extra></extra>",
         "legendgroup": "Rando Randal",
         "marker": {
          "color": "#8850be",
          "pattern": {
           "shape": ""
          }
         },
         "name": "Rando Randal",
         "offsetgroup": "Rando Randal",
         "orientation": "v",
         "showlegend": true,
         "textposition": "auto",
         "type": "bar",
         "x": [
          "Rando Randal"
         ],
         "xaxis": "x",
         "y": [
          3
         ],
         "yaxis": "y"
        },
        {
         "alignmentgroup": "True",
         "hovertemplate": "Name=%{x}<br>total_points=%{y}<extra></extra>",
         "legendgroup": "Luke",
         "marker": {
          "color": "#8850be",
          "pattern": {
           "shape": ""
          }
         },
         "name": "Luke",
         "offsetgroup": "Luke",
         "orientation": "v",
         "showlegend": true,
         "textposition": "auto",
         "type": "bar",
         "x": [
          "Luke"
         ],
         "xaxis": "x",
         "y": [
          2
         ],
         "yaxis": "y"
        }
       ],
       "layout": {
        "barmode": "relative",
        "font": {
         "family": "Arial",
         "size": 12
        },
        "legend": {
         "font": {
          "family": "Arial",
          "size": 10
         },
         "title": {
          "text": "Legend"
         },
         "tracegroupgap": 0,
         "traceorder": "reversed"
        },
        "paper_bgcolor": "rgba(0,0,0,0)",
        "plot_bgcolor": "rgba(0,0,0,0)",
        "showlegend": false,
        "template": {
         "data": {
          "candlestick": [
           {
            "decreasing": {
             "line": {
              "color": "#000033"
             }
            },
            "increasing": {
             "line": {
              "color": "#000032"
             }
            },
            "type": "candlestick"
           }
          ],
          "contour": [
           {
            "colorscale": [
             [
              0,
              "#000011"
             ],
             [
              0.1111111111111111,
              "#000012"
             ],
             [
              0.2222222222222222,
              "#000013"
             ],
             [
              0.3333333333333333,
              "#000014"
             ],
             [
              0.4444444444444444,
              "#000015"
             ],
             [
              0.5555555555555556,
              "#000016"
             ],
             [
              0.6666666666666666,
              "#000017"
             ],
             [
              0.7777777777777778,
              "#000018"
             ],
             [
              0.8888888888888888,
              "#000019"
             ],
             [
              1,
              "#000020"
             ]
            ],
            "type": "contour"
           }
          ],
          "contourcarpet": [
           {
            "colorscale": [
             [
              0,
              "#000011"
             ],
             [
              0.1111111111111111,
              "#000012"
             ],
             [
              0.2222222222222222,
              "#000013"
             ],
             [
              0.3333333333333333,
              "#000014"
             ],
             [
              0.4444444444444444,
              "#000015"
             ],
             [
              0.5555555555555556,
              "#000016"
             ],
             [
              0.6666666666666666,
              "#000017"
             ],
             [
              0.7777777777777778,
              "#000018"
             ],
             [
              0.8888888888888888,
              "#000019"
             ],
             [
              1,
              "#000020"
             ]
            ],
            "type": "contourcarpet"
           }
          ],
          "heatmap": [
           {
            "colorscale": [
             [
              0,
              "#000011"
             ],
             [
              0.1111111111111111,
              "#000012"
             ],
             [
              0.2222222222222222,
              "#000013"
             ],
             [
              0.3333333333333333,
              "#000014"
             ],
             [
              0.4444444444444444,
              "#000015"
             ],
             [
              0.5555555555555556,
              "#000016"
             ],
             [
              0.6666666666666666,
              "#000017"
             ],
             [
              0.7777777777777778,
              "#000018"
             ],
             [
              0.8888888888888888,
              "#000019"
             ],
             [
              1,
              "#000020"
             ]
            ],
            "type": "heatmap"
           }
          ],
          "histogram2d": [
           {
            "colorscale": [
             [
              0,
              "#000011"
             ],
             [
              0.1111111111111111,
              "#000012"
             ],
             [
              0.2222222222222222,
              "#000013"
             ],
             [
              0.3333333333333333,
              "#000014"
             ],
             [
              0.4444444444444444,
              "#000015"
             ],
             [
              0.5555555555555556,
              "#000016"
             ],
             [
              0.6666666666666666,
              "#000017"
             ],
             [
              0.7777777777777778,
              "#000018"
             ],
             [
              0.8888888888888888,
              "#000019"
             ],
             [
              1,
              "#000020"
             ]
            ],
            "type": "histogram2d"
           }
          ],
          "icicle": [
           {
            "textfont": {
             "color": "white"
            },
            "type": "icicle"
           }
          ],
          "sankey": [
           {
            "textfont": {
             "color": "#000036"
            },
            "type": "sankey"
           }
          ],
          "scatter": [
           {
            "marker": {
             "line": {
              "width": 0
             }
            },
            "type": "scatter"
           }
          ],
          "table": [
           {
            "cells": {
             "fill": {
              "color": "#000038"
             },
             "font": {
              "color": "#000037"
             },
             "line": {
              "color": "#000039"
             }
            },
            "header": {
             "fill": {
              "color": "#000040"
             },
             "font": {
              "color": "#000036"
             },
             "line": {
              "color": "#000039"
             }
            },
            "type": "table"
           }
          ],
          "waterfall": [
           {
            "connector": {
             "line": {
              "color": "#000036",
              "width": 2
             }
            },
            "decreasing": {
             "marker": {
              "color": "#000033"
             }
            },
            "increasing": {
             "marker": {
              "color": "#000032"
             }
            },
            "totals": {
             "marker": {
              "color": "#000034"
             }
            },
            "type": "waterfall"
           }
          ]
         },
         "layout": {
          "coloraxis": {
           "colorscale": [
            [
             0,
             "#000011"
            ],
            [
             0.1111111111111111,
             "#000012"
            ],
            [
             0.2222222222222222,
             "#000013"
            ],
            [
             0.3333333333333333,
             "#000014"
            ],
            [
             0.4444444444444444,
             "#000015"
            ],
            [
             0.5555555555555556,
             "#000016"
            ],
            [
             0.6666666666666666,
             "#000017"
            ],
            [
             0.7777777777777778,
             "#000018"
            ],
            [
             0.8888888888888888,
             "#000019"
            ],
            [
             1,
             "#000020"
            ]
           ]
          },
          "colorscale": {
           "diverging": [
            [
             0,
             "#000021"
            ],
            [
             0.1,
             "#000022"
            ],
            [
             0.2,
             "#000023"
            ],
            [
             0.3,
             "#000024"
            ],
            [
             0.4,
             "#000025"
            ],
            [
             0.5,
             "#000026"
            ],
            [
             0.6,
             "#000027"
            ],
            [
             0.7,
             "#000028"
            ],
            [
             0.8,
             "#000029"
            ],
            [
             0.9,
             "#000030"
            ],
            [
             1,
             "#000031"
            ]
           ],
           "sequential": [
            [
             0,
             "#000011"
            ],
            [
             0.1111111111111111,
             "#000012"
            ],
            [
             0.2222222222222222,
             "#000013"
            ],
            [
             0.3333333333333333,
             "#000014"
            ],
            [
             0.4444444444444444,
             "#000015"
            ],
            [
             0.5555555555555556,
             "#000016"
            ],
            [
             0.6666666666666666,
             "#000017"
            ],
            [
             0.7777777777777778,
             "#000018"
            ],
            [
             0.8888888888888888,
             "#000019"
            ],
            [
             1,
             "#000020"
            ]
           ],
           "sequentialminus": [
            [
             0,
             "#000011"
            ],
            [
             0.1111111111111111,
             "#000012"
            ],
            [
             0.2222222222222222,
             "#000013"
            ],
            [
             0.3333333333333333,
             "#000014"
            ],
            [
             0.4444444444444444,
             "#000015"
            ],
            [
             0.5555555555555556,
             "#000016"
            ],
            [
             0.6666666666666666,
             "#000017"
            ],
            [
             0.7777777777777778,
             "#000018"
            ],
            [
             0.8888888888888888,
             "#000019"
            ],
            [
             1,
             "#000020"
            ]
           ]
          },
          "colorway": [
           "#000001",
           "#000002",
           "#000003",
           "#000004",
           "#000005",
           "#000006",
           "#000007",
           "#000008",
           "#000009",
           "#000010"
          ]
         }
        },
        "title": {
         "font": {
          "family": "Arial",
          "size": 16
         },
         "text": "Euro 2024 Total Points by Name"
        },
        "xaxis": {
         "anchor": "y",
         "categoryarray": [
          "Jay",
          "Ed",
          "Corfe",
          "Tom",
          "Jonny",
          "Larry",
          "Marc",
          "Rando Randal",
          "Luke"
         ],
         "categoryorder": "array",
         "domain": [
          0,
          1
         ],
         "title": {
          "text": "Player Names"
         }
        },
        "yaxis": {
         "anchor": "x",
         "domain": [
          0,
          1
         ],
         "title": {
          "text": "Total Points"
         }
        }
       }
      }
     },
     "metadata": {},
     "output_type": "display_data"
    }
   ],
   "source": [
    "# Create the bar chart\n",
    "fig = px.bar(points_by_name, x='name', y='total_points', color='name',\n",
    "             labels={'name': 'Name', 'Points': 'Total Points'},\n",
    "             title='Euro 2024 Total Points by Name',  # Updated title\n",
    "             color_discrete_sequence=['#ffd700', '#C0C0C0', '#B87333', # gold, silver, bronze for 1st, 2nd, 3rd\n",
    "                                      '#8850be', '#8850be', '#8850be', '#8850be', '#8850be', '#8850be', '#8850be', '#8850be', '#8850be', '#8850be'])  # purple for all others\n",
    "\n",
    "# Customize the layout\n",
    "fig.update_layout(\n",
    "    xaxis_title='Player Names',\n",
    "    yaxis_title='Total Points',\n",
    "    font=dict(family='Arial', size=12),\n",
    "    title_font=dict(family='Arial', size=16),\n",
    "    paper_bgcolor='rgba(0,0,0,0)',\n",
    "    plot_bgcolor='rgba(0,0,0,0)',\n",
    "    showlegend=False,  # Hide the legend\n",
    "    legend_title_text='Legend',\n",
    "    legend_font=dict(family='Arial', size=10),\n",
    "    legend_traceorder='reversed'\n",
    ")\n",
    "\n",
    "# Show the plot\n",
    "fig.show()"
   ]
  },
  {
   "cell_type": "code",
   "execution_count": 152,
   "id": "258e1de5-2217-4d69-bf97-8a2c1c0ac01c",
   "metadata": {},
   "outputs": [
    {
     "data": {
      "text/html": [
       "<div>\n",
       "<style scoped>\n",
       "    .dataframe tbody tr th:only-of-type {\n",
       "        vertical-align: middle;\n",
       "    }\n",
       "\n",
       "    .dataframe tbody tr th {\n",
       "        vertical-align: top;\n",
       "    }\n",
       "\n",
       "    .dataframe thead th {\n",
       "        text-align: right;\n",
       "    }\n",
       "</style>\n",
       "<table border=\"1\" class=\"dataframe\">\n",
       "  <thead>\n",
       "    <tr style=\"text-align: right;\">\n",
       "      <th></th>\n",
       "      <th>name</th>\n",
       "      <th>predicted_score</th>\n",
       "    </tr>\n",
       "  </thead>\n",
       "  <tbody>\n",
       "    <tr>\n",
       "      <th>0</th>\n",
       "      <td>Corfe</td>\n",
       "      <td>1-0</td>\n",
       "    </tr>\n",
       "    <tr>\n",
       "      <th>1</th>\n",
       "      <td>Ed</td>\n",
       "      <td>0-4</td>\n",
       "    </tr>\n",
       "    <tr>\n",
       "      <th>2</th>\n",
       "      <td>Jay</td>\n",
       "      <td>0-3</td>\n",
       "    </tr>\n",
       "    <tr>\n",
       "      <th>3</th>\n",
       "      <td>Jonny</td>\n",
       "      <td>0-1</td>\n",
       "    </tr>\n",
       "    <tr>\n",
       "      <th>4</th>\n",
       "      <td>Larry</td>\n",
       "      <td>0-2</td>\n",
       "    </tr>\n",
       "    <tr>\n",
       "      <th>5</th>\n",
       "      <td>Luke</td>\n",
       "      <td>0-0</td>\n",
       "    </tr>\n",
       "    <tr>\n",
       "      <th>6</th>\n",
       "      <td>Marc</td>\n",
       "      <td>0-4</td>\n",
       "    </tr>\n",
       "    <tr>\n",
       "      <th>7</th>\n",
       "      <td>Rando Randal</td>\n",
       "      <td>1-1</td>\n",
       "    </tr>\n",
       "    <tr>\n",
       "      <th>8</th>\n",
       "      <td>Tom</td>\n",
       "      <td>1-1</td>\n",
       "    </tr>\n",
       "  </tbody>\n",
       "</table>\n",
       "</div>"
      ],
      "text/plain": [
       "           name predicted_score\n",
       "0         Corfe             1-0\n",
       "1            Ed             0-4\n",
       "2           Jay             0-3\n",
       "3         Jonny             0-1\n",
       "4         Larry             0-2\n",
       "5          Luke             0-0\n",
       "6          Marc             0-4\n",
       "7  Rando Randal             1-1\n",
       "8           Tom             1-1"
      ]
     },
     "execution_count": 152,
     "metadata": {},
     "output_type": "execute_result"
    }
   ],
   "source": [
    "# most predicted score\n",
    "mode_predicted_scores = df_merged.groupby('name')['predicted_score'].agg(lambda x: x.mode().iloc[0]).reset_index()\n",
    "mode_predicted_scores"
   ]
  },
  {
   "cell_type": "code",
   "execution_count": 153,
   "id": "b4ecaa59-ef4d-4430-a06e-39c0b5893c08",
   "metadata": {
    "tags": []
   },
   "outputs": [
    {
     "data": {
      "text/html": [
       "<div>\n",
       "<style scoped>\n",
       "    .dataframe tbody tr th:only-of-type {\n",
       "        vertical-align: middle;\n",
       "    }\n",
       "\n",
       "    .dataframe tbody tr th {\n",
       "        vertical-align: top;\n",
       "    }\n",
       "\n",
       "    .dataframe thead th {\n",
       "        text-align: right;\n",
       "    }\n",
       "</style>\n",
       "<table border=\"1\" class=\"dataframe\">\n",
       "  <thead>\n",
       "    <tr style=\"text-align: right;\">\n",
       "      <th></th>\n",
       "      <th>name</th>\n",
       "      <th>predicted_score</th>\n",
       "    </tr>\n",
       "  </thead>\n",
       "  <tbody>\n",
       "    <tr>\n",
       "      <th>0</th>\n",
       "      <td>Corfe</td>\n",
       "      <td>1-0</td>\n",
       "    </tr>\n",
       "    <tr>\n",
       "      <th>1</th>\n",
       "      <td>Ed</td>\n",
       "      <td>2-0</td>\n",
       "    </tr>\n",
       "    <tr>\n",
       "      <th>2</th>\n",
       "      <td>Jay</td>\n",
       "      <td>1-1</td>\n",
       "    </tr>\n",
       "    <tr>\n",
       "      <th>3</th>\n",
       "      <td>Jonny</td>\n",
       "      <td>0-1</td>\n",
       "    </tr>\n",
       "    <tr>\n",
       "      <th>4</th>\n",
       "      <td>Larry</td>\n",
       "      <td>0-4</td>\n",
       "    </tr>\n",
       "    <tr>\n",
       "      <th>5</th>\n",
       "      <td>Luke</td>\n",
       "      <td>0-4</td>\n",
       "    </tr>\n",
       "    <tr>\n",
       "      <th>6</th>\n",
       "      <td>Marc</td>\n",
       "      <td>0-4</td>\n",
       "    </tr>\n",
       "    <tr>\n",
       "      <th>7</th>\n",
       "      <td>Rando Randal</td>\n",
       "      <td>0-4</td>\n",
       "    </tr>\n",
       "    <tr>\n",
       "      <th>8</th>\n",
       "      <td>Tom</td>\n",
       "      <td>1-1</td>\n",
       "    </tr>\n",
       "  </tbody>\n",
       "</table>\n",
       "</div>"
      ],
      "text/plain": [
       "           name predicted_score\n",
       "0         Corfe             1-0\n",
       "1            Ed             2-0\n",
       "2           Jay             1-1\n",
       "3         Jonny             0-1\n",
       "4         Larry             0-4\n",
       "5          Luke             0-4\n",
       "6          Marc             0-4\n",
       "7  Rando Randal             0-4\n",
       "8           Tom             1-1"
      ]
     },
     "execution_count": 153,
     "metadata": {},
     "output_type": "execute_result"
    }
   ],
   "source": [
    "# most predicted, successful score\n",
    "correct_predictions_df = df_merged[df_merged['predicted_outcome'] == df_merged['actual_outcome']]\n",
    "mode_correct_predicted_scores = correct_predictions_df.groupby('name')['predicted_score'].agg(lambda x: x.mode().iloc[0]).reset_index()\n",
    "mode_correct_predicted_scores"
   ]
  },
  {
   "cell_type": "code",
   "execution_count": 179,
   "id": "85a6550e-dfe3-42f8-8cad-f8c4385cbb91",
   "metadata": {
    "tags": []
   },
   "outputs": [
    {
     "data": {
      "application/vnd.plotly.v1+json": {
       "config": {
        "plotlyServerURL": "https://plot.ly"
       },
       "data": [
        {
         "hovertemplate": "<b>%{text}</b><br>Match: %{x}<br>Cumulative Points: %{y}<extra></extra>",
         "mode": "lines+markers",
         "name": "Corfe",
         "text": [
          "Player: Corfe<br>Germany vs Scotland<br>Matchday Points: 0<br>Predicted Score: 1-0<br>Actual Score: 1-1",
          "Player: Corfe<br>Spain vs Croatia<br>Matchday Points: 1<br>Predicted Score: 1-0<br>Actual Score: 2-0",
          "Player: Corfe<br>Serbia vs England<br>Matchday Points: 0<br>Predicted Score: 1-3<br>Actual Score: 3-0",
          "Player: Corfe<br>Austria vs France<br>Matchday Points: 1<br>Predicted Score: 0-4<br>Actual Score: 1-3",
          "Player: Corfe<br>Portugal vs Czech Republic<br>Matchday Points: 0<br>Predicted Score: 1-1<br>Actual Score: 4-1",
          "Player: Corfe<br>Scotland vs Switzerland<br>Matchday Points: 0<br>Predicted Score: 1-0<br>Actual Score: 0-0",
          "Player: Corfe<br>Spain vs Italy<br>Matchday Points: 3<br>Predicted Score: 1-0<br>Actual Score: 1-0",
          "Player: Corfe<br>Denmark vs England<br>Matchday Points: 2<br>Predicted Score: 1-3<br>Actual Score: 0-1",
          "Player: Corfe<br>Netherlands vs France<br>Matchday Points: 0<br>Predicted Score: 0-4<br>Actual Score: 2-1",
          "Player: Corfe<br>Belgium vs Romania<br>Matchday Points: 0<br>Predicted Score: 1-1<br>Actual Score: 1-2"
         ],
         "type": "scatter",
         "x": [
          "M01",
          "M03",
          "M05",
          "M08",
          "M12",
          "M13",
          "M16",
          "M17",
          "M20",
          "M22"
         ],
         "y": [
          0,
          1,
          1,
          2,
          2,
          2,
          5,
          7,
          7,
          7
         ]
        },
        {
         "hovertemplate": "<b>%{text}</b><br>Match: %{x}<br>Cumulative Points: %{y}<extra></extra>",
         "mode": "lines+markers",
         "name": "Ed",
         "text": [
          "Player: Ed<br>Germany vs Scotland<br>Matchday Points: 0<br>Predicted Score: 1-0<br>Actual Score: 1-1",
          "Player: Ed<br>Spain vs Croatia<br>Matchday Points: 6<br>Predicted Score: 2-0<br>Actual Score: 2-0",
          "Player: Ed<br>Serbia vs England<br>Matchday Points: 0<br>Predicted Score: 1-3<br>Actual Score: 3-0",
          "Player: Ed<br>Austria vs France<br>Matchday Points: 1<br>Predicted Score: 0-4<br>Actual Score: 1-3",
          "Player: Ed<br>Portugal vs Czech Republic<br>Matchday Points: 0<br>Predicted Score: 2-2<br>Actual Score: 4-1",
          "Player: Ed<br>Scotland vs Switzerland<br>Matchday Points: 0<br>Predicted Score: 1-0<br>Actual Score: 0-0",
          "Player: Ed<br>Spain vs Italy<br>Matchday Points: 1<br>Predicted Score: 2-0<br>Actual Score: 1-0",
          "Player: Ed<br>Denmark vs England<br>Matchday Points: 1<br>Predicted Score: 1-3<br>Actual Score: 0-1",
          "Player: Ed<br>Netherlands vs France<br>Matchday Points: 0<br>Predicted Score: 0-4<br>Actual Score: 2-1",
          "Player: Ed<br>Belgium vs Romania<br>Matchday Points: 0<br>Predicted Score: 2-2<br>Actual Score: 1-2"
         ],
         "type": "scatter",
         "x": [
          "M01",
          "M03",
          "M05",
          "M08",
          "M12",
          "M13",
          "M16",
          "M17",
          "M20",
          "M22"
         ],
         "y": [
          0,
          6,
          6,
          7,
          7,
          7,
          8,
          9,
          9,
          9
         ]
        },
        {
         "hovertemplate": "<b>%{text}</b><br>Match: %{x}<br>Cumulative Points: %{y}<extra></extra>",
         "mode": "lines+markers",
         "name": "Jay",
         "text": [
          "Player: Jay<br>Germany vs Scotland<br>Matchday Points: 3<br>Predicted Score: 1-1<br>Actual Score: 1-1",
          "Player: Jay<br>Spain vs Croatia<br>Matchday Points: 1<br>Predicted Score: 3-0<br>Actual Score: 2-0",
          "Player: Jay<br>Serbia vs England<br>Matchday Points: 0<br>Predicted Score: 0-3<br>Actual Score: 3-0",
          "Player: Jay<br>Austria vs France<br>Matchday Points: 0<br>Predicted Score: 4-0<br>Actual Score: 1-3",
          "Player: Jay<br>Portugal vs Czech Republic<br>Matchday Points: 1<br>Predicted Score: 1-0<br>Actual Score: 4-1",
          "Player: Jay<br>Scotland vs Switzerland<br>Matchday Points: 1<br>Predicted Score: 1-1<br>Actual Score: 0-0",
          "Player: Jay<br>Spain vs Italy<br>Matchday Points: 2<br>Predicted Score: 3-0<br>Actual Score: 1-0",
          "Player: Jay<br>Denmark vs England<br>Matchday Points: 1<br>Predicted Score: 0-3<br>Actual Score: 0-1",
          "Player: Jay<br>Netherlands vs France<br>Matchday Points: 1<br>Predicted Score: 4-0<br>Actual Score: 2-1",
          "Player: Jay<br>Belgium vs Romania<br>Matchday Points: 0<br>Predicted Score: 1-0<br>Actual Score: 1-2"
         ],
         "type": "scatter",
         "x": [
          "M01",
          "M03",
          "M05",
          "M08",
          "M12",
          "M13",
          "M16",
          "M17",
          "M20",
          "M22"
         ],
         "y": [
          3,
          4,
          4,
          4,
          5,
          6,
          8,
          9,
          10,
          10
         ]
        },
        {
         "hovertemplate": "<b>%{text}</b><br>Match: %{x}<br>Cumulative Points: %{y}<extra></extra>",
         "mode": "lines+markers",
         "name": "Jonny",
         "text": [
          "Player: Jonny<br>Germany vs Scotland<br>Matchday Points: 0<br>Predicted Score: 1-0<br>Actual Score: 1-1",
          "Player: Jonny<br>Spain vs Croatia<br>Matchday Points: 0<br>Predicted Score: 0-1<br>Actual Score: 2-0",
          "Player: Jonny<br>Serbia vs England<br>Matchday Points: 0<br>Predicted Score: 1-3<br>Actual Score: 3-0",
          "Player: Jonny<br>Austria vs France<br>Matchday Points: 2<br>Predicted Score: 0-4<br>Actual Score: 1-3",
          "Player: Jonny<br>Portugal vs Czech Republic<br>Matchday Points: 0<br>Predicted Score: 0-1<br>Actual Score: 4-1",
          "Player: Jonny<br>Scotland vs Switzerland<br>Matchday Points: 0<br>Predicted Score: 1-0<br>Actual Score: 0-0",
          "Player: Jonny<br>Spain vs Italy<br>Matchday Points: 0<br>Predicted Score: 0-1<br>Actual Score: 1-0",
          "Player: Jonny<br>Denmark vs England<br>Matchday Points: 2<br>Predicted Score: 1-3<br>Actual Score: 0-1",
          "Player: Jonny<br>Netherlands vs France<br>Matchday Points: 0<br>Predicted Score: 0-4<br>Actual Score: 2-1",
          "Player: Jonny<br>Belgium vs Romania<br>Matchday Points: 1<br>Predicted Score: 0-1<br>Actual Score: 1-2"
         ],
         "type": "scatter",
         "x": [
          "M01",
          "M03",
          "M05",
          "M08",
          "M12",
          "M13",
          "M16",
          "M17",
          "M20",
          "M22"
         ],
         "y": [
          0,
          0,
          0,
          2,
          2,
          2,
          2,
          4,
          4,
          5
         ]
        },
        {
         "hovertemplate": "<b>%{text}</b><br>Match: %{x}<br>Cumulative Points: %{y}<extra></extra>",
         "mode": "lines+markers",
         "name": "Larry",
         "text": [
          "Player: Larry<br>Germany vs Scotland<br>Matchday Points: 0<br>Predicted Score: 1-0<br>Actual Score: 1-1",
          "Player: Larry<br>Spain vs Croatia<br>Matchday Points: 0<br>Predicted Score: 0-2<br>Actual Score: 2-0",
          "Player: Larry<br>Serbia vs England<br>Matchday Points: 0<br>Predicted Score: 1-3<br>Actual Score: 3-0",
          "Player: Larry<br>Austria vs France<br>Matchday Points: 2<br>Predicted Score: 0-4<br>Actual Score: 1-3",
          "Player: Larry<br>Portugal vs Czech Republic<br>Matchday Points: 1<br>Predicted Score: 4-0<br>Actual Score: 4-1",
          "Player: Larry<br>Scotland vs Switzerland<br>Matchday Points: 0<br>Predicted Score: 1-0<br>Actual Score: 0-0",
          "Player: Larry<br>Spain vs Italy<br>Matchday Points: 0<br>Predicted Score: 0-2<br>Actual Score: 1-0",
          "Player: Larry<br>Denmark vs England<br>Matchday Points: 2<br>Predicted Score: 1-3<br>Actual Score: 0-1",
          "Player: Larry<br>Netherlands vs France<br>Matchday Points: 0<br>Predicted Score: 0-4<br>Actual Score: 2-1",
          "Player: Larry<br>Belgium vs Romania<br>Matchday Points: 0<br>Predicted Score: 4-0<br>Actual Score: 1-2"
         ],
         "type": "scatter",
         "x": [
          "M01",
          "M03",
          "M05",
          "M08",
          "M12",
          "M13",
          "M16",
          "M17",
          "M20",
          "M22"
         ],
         "y": [
          0,
          0,
          0,
          2,
          3,
          3,
          3,
          5,
          5,
          5
         ]
        },
        {
         "hovertemplate": "<b>%{text}</b><br>Match: %{x}<br>Cumulative Points: %{y}<extra></extra>",
         "mode": "lines+markers",
         "name": "Luke",
         "text": [
          "Player: Luke<br>Germany vs Scotland<br>Matchday Points: 0<br>Predicted Score: 1-0<br>Actual Score: 1-1",
          "Player: Luke<br>Spain vs Croatia<br>Matchday Points: 0<br>Predicted Score: 1-1<br>Actual Score: 2-0",
          "Player: Luke<br>Serbia vs England<br>Matchday Points: 0<br>Predicted Score: 1-3<br>Actual Score: 3-0",
          "Player: Luke<br>Austria vs France<br>Matchday Points: 1<br>Predicted Score: 0-4<br>Actual Score: 1-3",
          "Player: Luke<br>Portugal vs Czech Republic<br>Matchday Points: 0<br>Predicted Score: 0-0<br>Actual Score: 4-1",
          "Player: Luke<br>Scotland vs Switzerland<br>Matchday Points: 0<br>Predicted Score: 1-0<br>Actual Score: 0-0",
          "Player: Luke<br>Spain vs Italy<br>Matchday Points: 0<br>Predicted Score: 1-1<br>Actual Score: 1-0",
          "Player: Luke<br>Denmark vs England<br>Matchday Points: 1<br>Predicted Score: 1-3<br>Actual Score: 0-1",
          "Player: Luke<br>Netherlands vs France<br>Matchday Points: 0<br>Predicted Score: 0-4<br>Actual Score: 2-1",
          "Player: Luke<br>Belgium vs Romania<br>Matchday Points: 0<br>Predicted Score: 0-0<br>Actual Score: 1-2"
         ],
         "type": "scatter",
         "x": [
          "M01",
          "M03",
          "M05",
          "M08",
          "M12",
          "M13",
          "M16",
          "M17",
          "M20",
          "M22"
         ],
         "y": [
          0,
          0,
          0,
          1,
          1,
          1,
          1,
          2,
          2,
          2
         ]
        },
        {
         "hovertemplate": "<b>%{text}</b><br>Match: %{x}<br>Cumulative Points: %{y}<extra></extra>",
         "mode": "lines+markers",
         "name": "Marc",
         "text": [
          "Player: Marc<br>Germany vs Scotland<br>Matchday Points: 0<br>Predicted Score: 1-0<br>Actual Score: 1-1",
          "Player: Marc<br>Spain vs Croatia<br>Matchday Points: 0<br>Predicted Score: 3-3<br>Actual Score: 2-0",
          "Player: Marc<br>Serbia vs England<br>Matchday Points: 0<br>Predicted Score: 1-3<br>Actual Score: 3-0",
          "Player: Marc<br>Austria vs France<br>Matchday Points: 1<br>Predicted Score: 0-4<br>Actual Score: 1-3",
          "Player: Marc<br>Portugal vs Czech Republic<br>Matchday Points: 0<br>Predicted Score: 1-1<br>Actual Score: 4-1",
          "Player: Marc<br>Scotland vs Switzerland<br>Matchday Points: 0<br>Predicted Score: 1-0<br>Actual Score: 0-0",
          "Player: Marc<br>Spain vs Italy<br>Matchday Points: 0<br>Predicted Score: 3-3<br>Actual Score: 1-0",
          "Player: Marc<br>Denmark vs England<br>Matchday Points: 2<br>Predicted Score: 1-3<br>Actual Score: 0-1",
          "Player: Marc<br>Netherlands vs France<br>Matchday Points: 0<br>Predicted Score: 0-4<br>Actual Score: 2-1",
          "Player: Marc<br>Belgium vs Romania<br>Matchday Points: 0<br>Predicted Score: 1-1<br>Actual Score: 1-2"
         ],
         "type": "scatter",
         "x": [
          "M01",
          "M03",
          "M05",
          "M08",
          "M12",
          "M13",
          "M16",
          "M17",
          "M20",
          "M22"
         ],
         "y": [
          0,
          0,
          0,
          1,
          1,
          1,
          1,
          3,
          3,
          3
         ]
        },
        {
         "hovertemplate": "<b>%{text}</b><br>Match: %{x}<br>Cumulative Points: %{y}<extra></extra>",
         "mode": "lines+markers",
         "name": "Rando Randal",
         "text": [
          "Player: Rando Randal<br>Germany vs Scotland<br>Matchday Points: 0<br>Predicted Score: 1-0<br>Actual Score: 1-1",
          "Player: Rando Randal<br>Spain vs Croatia<br>Matchday Points: 0<br>Predicted Score: 1-1<br>Actual Score: 2-0",
          "Player: Rando Randal<br>Serbia vs England<br>Matchday Points: 0<br>Predicted Score: 1-3<br>Actual Score: 3-0",
          "Player: Rando Randal<br>Austria vs France<br>Matchday Points: 1<br>Predicted Score: 0-4<br>Actual Score: 1-3",
          "Player: Rando Randal<br>Portugal vs Czech Republic<br>Matchday Points: 0<br>Predicted Score: 1-1<br>Actual Score: 4-1",
          "Player: Rando Randal<br>Scotland vs Switzerland<br>Matchday Points: 0<br>Predicted Score: 1-0<br>Actual Score: 0-0",
          "Player: Rando Randal<br>Spain vs Italy<br>Matchday Points: 0<br>Predicted Score: 1-1<br>Actual Score: 1-0",
          "Player: Rando Randal<br>Denmark vs England<br>Matchday Points: 2<br>Predicted Score: 1-3<br>Actual Score: 0-1",
          "Player: Rando Randal<br>Netherlands vs France<br>Matchday Points: 0<br>Predicted Score: 0-4<br>Actual Score: 2-1",
          "Player: Rando Randal<br>Belgium vs Romania<br>Matchday Points: 0<br>Predicted Score: 1-1<br>Actual Score: 1-2"
         ],
         "type": "scatter",
         "x": [
          "M01",
          "M03",
          "M05",
          "M08",
          "M12",
          "M13",
          "M16",
          "M17",
          "M20",
          "M22"
         ],
         "y": [
          0,
          0,
          0,
          1,
          1,
          1,
          1,
          3,
          3,
          3
         ]
        },
        {
         "hovertemplate": "<b>%{text}</b><br>Match: %{x}<br>Cumulative Points: %{y}<extra></extra>",
         "mode": "lines+markers",
         "name": "Tom",
         "text": [
          "Player: Tom<br>Germany vs Scotland<br>Matchday Points: 3<br>Predicted Score: 1-1<br>Actual Score: 1-1",
          "Player: Tom<br>Spain vs Croatia<br>Matchday Points: 0<br>Predicted Score: 4-4<br>Actual Score: 2-0",
          "Player: Tom<br>Serbia vs England<br>Matchday Points: 0<br>Predicted Score: 0-3<br>Actual Score: 3-0",
          "Player: Tom<br>Austria vs France<br>Matchday Points: 0<br>Predicted Score: 4-0<br>Actual Score: 1-3",
          "Player: Tom<br>Portugal vs Czech Republic<br>Matchday Points: 0<br>Predicted Score: 1-1<br>Actual Score: 4-1",
          "Player: Tom<br>Scotland vs Switzerland<br>Matchday Points: 1<br>Predicted Score: 1-1<br>Actual Score: 0-0",
          "Player: Tom<br>Spain vs Italy<br>Matchday Points: 0<br>Predicted Score: 4-4<br>Actual Score: 1-0",
          "Player: Tom<br>Denmark vs England<br>Matchday Points: 2<br>Predicted Score: 0-3<br>Actual Score: 0-1",
          "Player: Tom<br>Netherlands vs France<br>Matchday Points: 1<br>Predicted Score: 4-0<br>Actual Score: 2-1",
          "Player: Tom<br>Belgium vs Romania<br>Matchday Points: 0<br>Predicted Score: 1-1<br>Actual Score: 1-2"
         ],
         "type": "scatter",
         "x": [
          "M01",
          "M03",
          "M05",
          "M08",
          "M12",
          "M13",
          "M16",
          "M17",
          "M20",
          "M22"
         ],
         "y": [
          3,
          3,
          3,
          3,
          3,
          4,
          4,
          6,
          7,
          7
         ]
        }
       ],
       "layout": {
        "legend": {
         "orientation": "h"
        },
        "template": {
         "data": {
          "candlestick": [
           {
            "decreasing": {
             "line": {
              "color": "#000033"
             }
            },
            "increasing": {
             "line": {
              "color": "#000032"
             }
            },
            "type": "candlestick"
           }
          ],
          "contour": [
           {
            "colorscale": [
             [
              0,
              "#000011"
             ],
             [
              0.1111111111111111,
              "#000012"
             ],
             [
              0.2222222222222222,
              "#000013"
             ],
             [
              0.3333333333333333,
              "#000014"
             ],
             [
              0.4444444444444444,
              "#000015"
             ],
             [
              0.5555555555555556,
              "#000016"
             ],
             [
              0.6666666666666666,
              "#000017"
             ],
             [
              0.7777777777777778,
              "#000018"
             ],
             [
              0.8888888888888888,
              "#000019"
             ],
             [
              1,
              "#000020"
             ]
            ],
            "type": "contour"
           }
          ],
          "contourcarpet": [
           {
            "colorscale": [
             [
              0,
              "#000011"
             ],
             [
              0.1111111111111111,
              "#000012"
             ],
             [
              0.2222222222222222,
              "#000013"
             ],
             [
              0.3333333333333333,
              "#000014"
             ],
             [
              0.4444444444444444,
              "#000015"
             ],
             [
              0.5555555555555556,
              "#000016"
             ],
             [
              0.6666666666666666,
              "#000017"
             ],
             [
              0.7777777777777778,
              "#000018"
             ],
             [
              0.8888888888888888,
              "#000019"
             ],
             [
              1,
              "#000020"
             ]
            ],
            "type": "contourcarpet"
           }
          ],
          "heatmap": [
           {
            "colorscale": [
             [
              0,
              "#000011"
             ],
             [
              0.1111111111111111,
              "#000012"
             ],
             [
              0.2222222222222222,
              "#000013"
             ],
             [
              0.3333333333333333,
              "#000014"
             ],
             [
              0.4444444444444444,
              "#000015"
             ],
             [
              0.5555555555555556,
              "#000016"
             ],
             [
              0.6666666666666666,
              "#000017"
             ],
             [
              0.7777777777777778,
              "#000018"
             ],
             [
              0.8888888888888888,
              "#000019"
             ],
             [
              1,
              "#000020"
             ]
            ],
            "type": "heatmap"
           }
          ],
          "histogram2d": [
           {
            "colorscale": [
             [
              0,
              "#000011"
             ],
             [
              0.1111111111111111,
              "#000012"
             ],
             [
              0.2222222222222222,
              "#000013"
             ],
             [
              0.3333333333333333,
              "#000014"
             ],
             [
              0.4444444444444444,
              "#000015"
             ],
             [
              0.5555555555555556,
              "#000016"
             ],
             [
              0.6666666666666666,
              "#000017"
             ],
             [
              0.7777777777777778,
              "#000018"
             ],
             [
              0.8888888888888888,
              "#000019"
             ],
             [
              1,
              "#000020"
             ]
            ],
            "type": "histogram2d"
           }
          ],
          "icicle": [
           {
            "textfont": {
             "color": "white"
            },
            "type": "icicle"
           }
          ],
          "sankey": [
           {
            "textfont": {
             "color": "#000036"
            },
            "type": "sankey"
           }
          ],
          "scatter": [
           {
            "marker": {
             "line": {
              "width": 0
             }
            },
            "type": "scatter"
           }
          ],
          "table": [
           {
            "cells": {
             "fill": {
              "color": "#000038"
             },
             "font": {
              "color": "#000037"
             },
             "line": {
              "color": "#000039"
             }
            },
            "header": {
             "fill": {
              "color": "#000040"
             },
             "font": {
              "color": "#000036"
             },
             "line": {
              "color": "#000039"
             }
            },
            "type": "table"
           }
          ],
          "waterfall": [
           {
            "connector": {
             "line": {
              "color": "#000036",
              "width": 2
             }
            },
            "decreasing": {
             "marker": {
              "color": "#000033"
             }
            },
            "increasing": {
             "marker": {
              "color": "#000032"
             }
            },
            "totals": {
             "marker": {
              "color": "#000034"
             }
            },
            "type": "waterfall"
           }
          ]
         },
         "layout": {
          "coloraxis": {
           "colorscale": [
            [
             0,
             "#000011"
            ],
            [
             0.1111111111111111,
             "#000012"
            ],
            [
             0.2222222222222222,
             "#000013"
            ],
            [
             0.3333333333333333,
             "#000014"
            ],
            [
             0.4444444444444444,
             "#000015"
            ],
            [
             0.5555555555555556,
             "#000016"
            ],
            [
             0.6666666666666666,
             "#000017"
            ],
            [
             0.7777777777777778,
             "#000018"
            ],
            [
             0.8888888888888888,
             "#000019"
            ],
            [
             1,
             "#000020"
            ]
           ]
          },
          "colorscale": {
           "diverging": [
            [
             0,
             "#000021"
            ],
            [
             0.1,
             "#000022"
            ],
            [
             0.2,
             "#000023"
            ],
            [
             0.3,
             "#000024"
            ],
            [
             0.4,
             "#000025"
            ],
            [
             0.5,
             "#000026"
            ],
            [
             0.6,
             "#000027"
            ],
            [
             0.7,
             "#000028"
            ],
            [
             0.8,
             "#000029"
            ],
            [
             0.9,
             "#000030"
            ],
            [
             1,
             "#000031"
            ]
           ],
           "sequential": [
            [
             0,
             "#000011"
            ],
            [
             0.1111111111111111,
             "#000012"
            ],
            [
             0.2222222222222222,
             "#000013"
            ],
            [
             0.3333333333333333,
             "#000014"
            ],
            [
             0.4444444444444444,
             "#000015"
            ],
            [
             0.5555555555555556,
             "#000016"
            ],
            [
             0.6666666666666666,
             "#000017"
            ],
            [
             0.7777777777777778,
             "#000018"
            ],
            [
             0.8888888888888888,
             "#000019"
            ],
            [
             1,
             "#000020"
            ]
           ],
           "sequentialminus": [
            [
             0,
             "#000011"
            ],
            [
             0.1111111111111111,
             "#000012"
            ],
            [
             0.2222222222222222,
             "#000013"
            ],
            [
             0.3333333333333333,
             "#000014"
            ],
            [
             0.4444444444444444,
             "#000015"
            ],
            [
             0.5555555555555556,
             "#000016"
            ],
            [
             0.6666666666666666,
             "#000017"
            ],
            [
             0.7777777777777778,
             "#000018"
            ],
            [
             0.8888888888888888,
             "#000019"
            ],
            [
             1,
             "#000020"
            ]
           ]
          },
          "colorway": [
           "#000001",
           "#000002",
           "#000003",
           "#000004",
           "#000005",
           "#000006",
           "#000007",
           "#000008",
           "#000009",
           "#000010"
          ]
         }
        },
        "title": {
         "text": "Cumulative Total Points Over Time"
        },
        "xaxis": {
         "title": {
          "text": " "
         }
        },
        "yaxis": {
         "title": {
          "text": "Cumulative Total Points"
         }
        }
       }
      }
     },
     "metadata": {},
     "output_type": "display_data"
    }
   ],
   "source": [
    "# Create a new dataframe containing necessary columns\n",
    "plot_df = df_merged[['timestamp', 'name', 'match_code', 'home', 'away', 'predicted_score', 'actual_score', 'total_points']].copy()\n",
    "\n",
    "# Get unique match codes from the DataFrame\n",
    "match_codes_unique = df_merged['match_code'].unique()\n",
    "\n",
    "# Sort the match codes\n",
    "match_code_order = sorted(match_codes_unique, key=lambda x: int(x[1:]))\n",
    "\n",
    "# Convert match_code to categorical and set the order\n",
    "plot_df['match_code'] = pd.Categorical(plot_df['match_code'], categories=match_code_order, ordered=True)\n",
    "\n",
    "# Sort the dataframe based on match_code order\n",
    "plot_df = plot_df.sort_values(by='match_code')\n",
    "\n",
    "# Calculate the cumulative sum of total_points\n",
    "plot_df['cumulative_total_points'] = plot_df.groupby('name')['total_points'].cumsum()\n",
    "\n",
    "# Create traces for each name\n",
    "traces = []\n",
    "for name, group in plot_df.groupby('name'):\n",
    "    trace = go.Scatter(\n",
    "        x=group['match_code'], \n",
    "        y=group['cumulative_total_points'], \n",
    "        mode='lines+markers', \n",
    "        name=name,\n",
    "        text=group.apply(lambda row: f\"Player: {row['name']}<br>{row['home']} vs {row['away']}<br>Matchday Points: {row['total_points']}<br>Predicted Score: {row['predicted_score']}<br>Actual Score: {row['actual_score']}\", axis=1),\n",
    "        hovertemplate='<b>%{text}</b><br>Match: %{x}<br>Cumulative Points: %{y}<extra></extra>'\n",
    "    )\n",
    "    traces.append(trace)\n",
    "\n",
    "# Create the layout\n",
    "layout = go.Layout(\n",
    "    title='Cumulative Total Points Over Time',\n",
    "    xaxis=dict(title=' '),\n",
    "    yaxis=dict(title='Cumulative Total Points'),\n",
    "    legend=dict(orientation='h')\n",
    ")\n",
    "\n",
    "# Create the figure\n",
    "fig = go.Figure(data=traces, layout=layout)\n",
    "\n",
    "# Show the plot\n",
    "fig.show()"
   ]
  },
  {
   "cell_type": "code",
   "execution_count": 230,
   "id": "18488d74-7a7e-43da-8aae-9c2725eb389f",
   "metadata": {},
   "outputs": [
    {
     "name": "stdout",
     "output_type": "stream",
     "text": [
      "            name  matchday             stage_detail  rank_change\n",
      "0          Corfe         1  01. Groups - Matchday 1          NaN\n",
      "1          Corfe         2  02. Groups - Matchday 2          2.0\n",
      "2             Ed         1  01. Groups - Matchday 1          NaN\n",
      "3             Ed         2  02. Groups - Matchday 2         -1.0\n",
      "4            Jay         1  01. Groups - Matchday 1          NaN\n",
      "5            Jay         2  02. Groups - Matchday 2          1.0\n",
      "6          Jonny         1  01. Groups - Matchday 1          NaN\n",
      "7          Jonny         2  02. Groups - Matchday 2          0.0\n",
      "8          Larry         1  01. Groups - Matchday 1          NaN\n",
      "9          Larry         2  02. Groups - Matchday 2         -2.0\n",
      "10          Luke         1  01. Groups - Matchday 1          NaN\n",
      "11          Luke         2  02. Groups - Matchday 2         -2.0\n",
      "12          Marc         1  01. Groups - Matchday 1          NaN\n",
      "13          Marc         2  02. Groups - Matchday 2          0.0\n",
      "14  Rando Randal         1  01. Groups - Matchday 1          NaN\n",
      "15  Rando Randal         2  02. Groups - Matchday 2          0.0\n",
      "16           Tom         1  01. Groups - Matchday 1          NaN\n",
      "17           Tom         2  02. Groups - Matchday 2          0.0\n"
     ]
    }
   ],
   "source": [
    "# Create a sorted DataFrame based on matchday\n",
    "df_sorted = points_by_name_stage.sort_values(by=['name', 'matchday'])\n",
    "\n",
    "# Calculate rank based on cumulative_total_points for each matchday\n",
    "df_sorted['rank'] = df_sorted.groupby('matchday')['cumulative_total_points'].rank(ascending=False, method='min')\n",
    "\n",
    "# Shift rank to get previous matchday rank\n",
    "df_sorted['prev_rank'] = df_sorted.groupby('name')['rank'].shift(1)\n",
    "\n",
    "# Replace NaN in prev_rank with 0\n",
    "df_sorted['prev_rank'] = df_sorted['prev_rank']\n",
    "\n",
    "# Calculate rank change\n",
    "df_sorted['rank_change'] = df_sorted['prev_rank'] - df_sorted['rank']\n",
    "\n",
    "# Select relevant columns\n",
    "result = df_sorted[['name', 'matchday', 'stage_detail', 'rank_change']]\n",
    "\n",
    "# Display the resulting DataFrame\n",
    "print(result)\n"
   ]
  },
  {
   "cell_type": "code",
   "execution_count": 180,
   "id": "a81284eb",
   "metadata": {},
   "outputs": [],
   "source": [
    "# Calculate the cumulative total points for each player\n",
    "points_by_name_stage['cumulative_total_points'] = points_by_name_stage.groupby('name')['total_points'].cumsum()\n",
    "\n",
    "# Calculate the cumulative average total points for each matchday\n",
    "cumulative_avg_total_points = points_by_name_stage.groupby('matchday')['cumulative_total_points'].mean().reset_index()\n",
    "cumulative_avg_total_points.rename(columns={'cumulative_total_points': 'cumulative_avg_total_points'}, inplace=True)\n",
    "\n",
    "# Merge the cumulative average total points back to the original DataFrame\n",
    "vs_mean_df = points_by_name_stage.merge(cumulative_avg_total_points, on='matchday')\n",
    "\n",
    "# Calculate the difference between each player's cumulative total points and the cumulative average\n",
    "vs_mean_df['difference'] = vs_mean_df['cumulative_total_points'] - vs_mean_df['cumulative_avg_total_points']\n",
    "\n",
    "# Display the resulting DataFrame\n",
    "vs_mean_df[['name', 'matchday', 'cumulative_total_points', 'cumulative_avg_total_points', 'difference']]\n",
    "\n",
    "# write to csv\n",
    "vs_mean_df.to_csv('data/vs_mean_df.csv')\n",
    "\n"
   ]
  },
  {
   "cell_type": "code",
   "execution_count": 181,
   "id": "3f853a37",
   "metadata": {},
   "outputs": [
    {
     "data": {
      "text/html": [
       "<div>\n",
       "<style scoped>\n",
       "    .dataframe tbody tr th:only-of-type {\n",
       "        vertical-align: middle;\n",
       "    }\n",
       "\n",
       "    .dataframe tbody tr th {\n",
       "        vertical-align: top;\n",
       "    }\n",
       "\n",
       "    .dataframe thead th {\n",
       "        text-align: right;\n",
       "    }\n",
       "</style>\n",
       "<table border=\"1\" class=\"dataframe\">\n",
       "  <thead>\n",
       "    <tr style=\"text-align: right;\">\n",
       "      <th></th>\n",
       "      <th>name</th>\n",
       "      <th>matchday</th>\n",
       "      <th>stage_detail</th>\n",
       "      <th>base_points</th>\n",
       "      <th>total_points</th>\n",
       "      <th>cumulative_total_points</th>\n",
       "      <th>cumulative_avg_total_points</th>\n",
       "      <th>difference</th>\n",
       "    </tr>\n",
       "  </thead>\n",
       "  <tbody>\n",
       "    <tr>\n",
       "      <th>0</th>\n",
       "      <td>Corfe</td>\n",
       "      <td>1</td>\n",
       "      <td>01. Groups - Matchday 1</td>\n",
       "      <td>2</td>\n",
       "      <td>2</td>\n",
       "      <td>2</td>\n",
       "      <td>2.777778</td>\n",
       "      <td>-0.777778</td>\n",
       "    </tr>\n",
       "    <tr>\n",
       "      <th>1</th>\n",
       "      <td>Corfe</td>\n",
       "      <td>2</td>\n",
       "      <td>02. Groups - Matchday 2</td>\n",
       "      <td>4</td>\n",
       "      <td>5</td>\n",
       "      <td>7</td>\n",
       "      <td>5.666667</td>\n",
       "      <td>1.333333</td>\n",
       "    </tr>\n",
       "    <tr>\n",
       "      <th>2</th>\n",
       "      <td>Ed</td>\n",
       "      <td>1</td>\n",
       "      <td>01. Groups - Matchday 1</td>\n",
       "      <td>4</td>\n",
       "      <td>7</td>\n",
       "      <td>7</td>\n",
       "      <td>2.777778</td>\n",
       "      <td>4.222222</td>\n",
       "    </tr>\n",
       "    <tr>\n",
       "      <th>3</th>\n",
       "      <td>Ed</td>\n",
       "      <td>2</td>\n",
       "      <td>02. Groups - Matchday 2</td>\n",
       "      <td>2</td>\n",
       "      <td>2</td>\n",
       "      <td>9</td>\n",
       "      <td>5.666667</td>\n",
       "      <td>3.333333</td>\n",
       "    </tr>\n",
       "    <tr>\n",
       "      <th>4</th>\n",
       "      <td>Jay</td>\n",
       "      <td>1</td>\n",
       "      <td>01. Groups - Matchday 1</td>\n",
       "      <td>5</td>\n",
       "      <td>5</td>\n",
       "      <td>5</td>\n",
       "      <td>2.777778</td>\n",
       "      <td>2.222222</td>\n",
       "    </tr>\n",
       "    <tr>\n",
       "      <th>5</th>\n",
       "      <td>Jay</td>\n",
       "      <td>2</td>\n",
       "      <td>02. Groups - Matchday 2</td>\n",
       "      <td>4</td>\n",
       "      <td>5</td>\n",
       "      <td>10</td>\n",
       "      <td>5.666667</td>\n",
       "      <td>4.333333</td>\n",
       "    </tr>\n",
       "    <tr>\n",
       "      <th>6</th>\n",
       "      <td>Jonny</td>\n",
       "      <td>1</td>\n",
       "      <td>01. Groups - Matchday 1</td>\n",
       "      <td>1</td>\n",
       "      <td>2</td>\n",
       "      <td>2</td>\n",
       "      <td>2.777778</td>\n",
       "      <td>-0.777778</td>\n",
       "    </tr>\n",
       "    <tr>\n",
       "      <th>7</th>\n",
       "      <td>Jonny</td>\n",
       "      <td>2</td>\n",
       "      <td>02. Groups - Matchday 2</td>\n",
       "      <td>2</td>\n",
       "      <td>3</td>\n",
       "      <td>5</td>\n",
       "      <td>5.666667</td>\n",
       "      <td>-0.666667</td>\n",
       "    </tr>\n",
       "    <tr>\n",
       "      <th>8</th>\n",
       "      <td>Larry</td>\n",
       "      <td>1</td>\n",
       "      <td>01. Groups - Matchday 1</td>\n",
       "      <td>2</td>\n",
       "      <td>3</td>\n",
       "      <td>3</td>\n",
       "      <td>2.777778</td>\n",
       "      <td>0.222222</td>\n",
       "    </tr>\n",
       "    <tr>\n",
       "      <th>9</th>\n",
       "      <td>Larry</td>\n",
       "      <td>2</td>\n",
       "      <td>02. Groups - Matchday 2</td>\n",
       "      <td>1</td>\n",
       "      <td>2</td>\n",
       "      <td>5</td>\n",
       "      <td>5.666667</td>\n",
       "      <td>-0.666667</td>\n",
       "    </tr>\n",
       "    <tr>\n",
       "      <th>10</th>\n",
       "      <td>Luke</td>\n",
       "      <td>1</td>\n",
       "      <td>01. Groups - Matchday 1</td>\n",
       "      <td>1</td>\n",
       "      <td>1</td>\n",
       "      <td>1</td>\n",
       "      <td>2.777778</td>\n",
       "      <td>-1.777778</td>\n",
       "    </tr>\n",
       "    <tr>\n",
       "      <th>11</th>\n",
       "      <td>Luke</td>\n",
       "      <td>2</td>\n",
       "      <td>02. Groups - Matchday 2</td>\n",
       "      <td>1</td>\n",
       "      <td>1</td>\n",
       "      <td>2</td>\n",
       "      <td>5.666667</td>\n",
       "      <td>-3.666667</td>\n",
       "    </tr>\n",
       "    <tr>\n",
       "      <th>12</th>\n",
       "      <td>Marc</td>\n",
       "      <td>1</td>\n",
       "      <td>01. Groups - Matchday 1</td>\n",
       "      <td>1</td>\n",
       "      <td>1</td>\n",
       "      <td>1</td>\n",
       "      <td>2.777778</td>\n",
       "      <td>-1.777778</td>\n",
       "    </tr>\n",
       "    <tr>\n",
       "      <th>13</th>\n",
       "      <td>Marc</td>\n",
       "      <td>2</td>\n",
       "      <td>02. Groups - Matchday 2</td>\n",
       "      <td>1</td>\n",
       "      <td>2</td>\n",
       "      <td>3</td>\n",
       "      <td>5.666667</td>\n",
       "      <td>-2.666667</td>\n",
       "    </tr>\n",
       "    <tr>\n",
       "      <th>14</th>\n",
       "      <td>Rando Randal</td>\n",
       "      <td>1</td>\n",
       "      <td>01. Groups - Matchday 1</td>\n",
       "      <td>1</td>\n",
       "      <td>1</td>\n",
       "      <td>1</td>\n",
       "      <td>2.777778</td>\n",
       "      <td>-1.777778</td>\n",
       "    </tr>\n",
       "    <tr>\n",
       "      <th>15</th>\n",
       "      <td>Rando Randal</td>\n",
       "      <td>2</td>\n",
       "      <td>02. Groups - Matchday 2</td>\n",
       "      <td>1</td>\n",
       "      <td>2</td>\n",
       "      <td>3</td>\n",
       "      <td>5.666667</td>\n",
       "      <td>-2.666667</td>\n",
       "    </tr>\n",
       "    <tr>\n",
       "      <th>16</th>\n",
       "      <td>Tom</td>\n",
       "      <td>1</td>\n",
       "      <td>01. Groups - Matchday 1</td>\n",
       "      <td>3</td>\n",
       "      <td>3</td>\n",
       "      <td>3</td>\n",
       "      <td>2.777778</td>\n",
       "      <td>0.222222</td>\n",
       "    </tr>\n",
       "    <tr>\n",
       "      <th>17</th>\n",
       "      <td>Tom</td>\n",
       "      <td>2</td>\n",
       "      <td>02. Groups - Matchday 2</td>\n",
       "      <td>3</td>\n",
       "      <td>4</td>\n",
       "      <td>7</td>\n",
       "      <td>5.666667</td>\n",
       "      <td>1.333333</td>\n",
       "    </tr>\n",
       "  </tbody>\n",
       "</table>\n",
       "</div>"
      ],
      "text/plain": [
       "            name  matchday             stage_detail  base_points  \\\n",
       "0          Corfe         1  01. Groups - Matchday 1            2   \n",
       "1          Corfe         2  02. Groups - Matchday 2            4   \n",
       "2             Ed         1  01. Groups - Matchday 1            4   \n",
       "3             Ed         2  02. Groups - Matchday 2            2   \n",
       "4            Jay         1  01. Groups - Matchday 1            5   \n",
       "5            Jay         2  02. Groups - Matchday 2            4   \n",
       "6          Jonny         1  01. Groups - Matchday 1            1   \n",
       "7          Jonny         2  02. Groups - Matchday 2            2   \n",
       "8          Larry         1  01. Groups - Matchday 1            2   \n",
       "9          Larry         2  02. Groups - Matchday 2            1   \n",
       "10          Luke         1  01. Groups - Matchday 1            1   \n",
       "11          Luke         2  02. Groups - Matchday 2            1   \n",
       "12          Marc         1  01. Groups - Matchday 1            1   \n",
       "13          Marc         2  02. Groups - Matchday 2            1   \n",
       "14  Rando Randal         1  01. Groups - Matchday 1            1   \n",
       "15  Rando Randal         2  02. Groups - Matchday 2            1   \n",
       "16           Tom         1  01. Groups - Matchday 1            3   \n",
       "17           Tom         2  02. Groups - Matchday 2            3   \n",
       "\n",
       "    total_points  cumulative_total_points  cumulative_avg_total_points  \\\n",
       "0              2                        2                     2.777778   \n",
       "1              5                        7                     5.666667   \n",
       "2              7                        7                     2.777778   \n",
       "3              2                        9                     5.666667   \n",
       "4              5                        5                     2.777778   \n",
       "5              5                       10                     5.666667   \n",
       "6              2                        2                     2.777778   \n",
       "7              3                        5                     5.666667   \n",
       "8              3                        3                     2.777778   \n",
       "9              2                        5                     5.666667   \n",
       "10             1                        1                     2.777778   \n",
       "11             1                        2                     5.666667   \n",
       "12             1                        1                     2.777778   \n",
       "13             2                        3                     5.666667   \n",
       "14             1                        1                     2.777778   \n",
       "15             2                        3                     5.666667   \n",
       "16             3                        3                     2.777778   \n",
       "17             4                        7                     5.666667   \n",
       "\n",
       "    difference  \n",
       "0    -0.777778  \n",
       "1     1.333333  \n",
       "2     4.222222  \n",
       "3     3.333333  \n",
       "4     2.222222  \n",
       "5     4.333333  \n",
       "6    -0.777778  \n",
       "7    -0.666667  \n",
       "8     0.222222  \n",
       "9    -0.666667  \n",
       "10   -1.777778  \n",
       "11   -3.666667  \n",
       "12   -1.777778  \n",
       "13   -2.666667  \n",
       "14   -1.777778  \n",
       "15   -2.666667  \n",
       "16    0.222222  \n",
       "17    1.333333  "
      ]
     },
     "execution_count": 181,
     "metadata": {},
     "output_type": "execute_result"
    }
   ],
   "source": [
    "vs_mean_df"
   ]
  },
  {
   "cell_type": "code",
   "execution_count": 182,
   "id": "c010ce21",
   "metadata": {},
   "outputs": [
    {
     "data": {
      "application/vnd.plotly.v1+json": {
       "config": {
        "plotlyServerURL": "https://plot.ly"
       },
       "data": [
        {
         "hovertemplate": "name=Corfe<br>Matchday=%{x}<br>Difference vs Mean=%{y}<extra></extra>",
         "legendgroup": "Corfe",
         "line": {
          "color": "#000001",
          "dash": "solid"
         },
         "marker": {
          "symbol": "circle"
         },
         "mode": "lines",
         "name": "Corfe",
         "orientation": "v",
         "showlegend": true,
         "type": "scatter",
         "x": [
          1,
          2
         ],
         "xaxis": "x",
         "y": [
          -0.7777777777777777,
          1.333333333333333
         ],
         "yaxis": "y"
        },
        {
         "hovertemplate": "name=Ed<br>Matchday=%{x}<br>Difference vs Mean=%{y}<extra></extra>",
         "legendgroup": "Ed",
         "line": {
          "color": "#000002",
          "dash": "solid"
         },
         "marker": {
          "symbol": "circle"
         },
         "mode": "lines",
         "name": "Ed",
         "orientation": "v",
         "showlegend": true,
         "type": "scatter",
         "x": [
          1,
          2
         ],
         "xaxis": "x",
         "y": [
          4.222222222222222,
          3.333333333333333
         ],
         "yaxis": "y"
        },
        {
         "hovertemplate": "name=Jay<br>Matchday=%{x}<br>Difference vs Mean=%{y}<extra></extra>",
         "legendgroup": "Jay",
         "line": {
          "color": "#000003",
          "dash": "solid"
         },
         "marker": {
          "symbol": "circle"
         },
         "mode": "lines",
         "name": "Jay",
         "orientation": "v",
         "showlegend": true,
         "type": "scatter",
         "x": [
          1,
          2
         ],
         "xaxis": "x",
         "y": [
          2.2222222222222223,
          4.333333333333333
         ],
         "yaxis": "y"
        },
        {
         "hovertemplate": "name=Jonny<br>Matchday=%{x}<br>Difference vs Mean=%{y}<extra></extra>",
         "legendgroup": "Jonny",
         "line": {
          "color": "#000004",
          "dash": "solid"
         },
         "marker": {
          "symbol": "circle"
         },
         "mode": "lines",
         "name": "Jonny",
         "orientation": "v",
         "showlegend": true,
         "type": "scatter",
         "x": [
          1,
          2
         ],
         "xaxis": "x",
         "y": [
          -0.7777777777777777,
          -0.666666666666667
         ],
         "yaxis": "y"
        },
        {
         "hovertemplate": "name=Larry<br>Matchday=%{x}<br>Difference vs Mean=%{y}<extra></extra>",
         "legendgroup": "Larry",
         "line": {
          "color": "#000005",
          "dash": "solid"
         },
         "marker": {
          "symbol": "circle"
         },
         "mode": "lines",
         "name": "Larry",
         "orientation": "v",
         "showlegend": true,
         "type": "scatter",
         "x": [
          1,
          2
         ],
         "xaxis": "x",
         "y": [
          0.22222222222222232,
          -0.666666666666667
         ],
         "yaxis": "y"
        },
        {
         "hovertemplate": "name=Luke<br>Matchday=%{x}<br>Difference vs Mean=%{y}<extra></extra>",
         "legendgroup": "Luke",
         "line": {
          "color": "#000006",
          "dash": "solid"
         },
         "marker": {
          "symbol": "circle"
         },
         "mode": "lines",
         "name": "Luke",
         "orientation": "v",
         "showlegend": true,
         "type": "scatter",
         "x": [
          1,
          2
         ],
         "xaxis": "x",
         "y": [
          -1.7777777777777777,
          -3.666666666666667
         ],
         "yaxis": "y"
        },
        {
         "hovertemplate": "name=Marc<br>Matchday=%{x}<br>Difference vs Mean=%{y}<extra></extra>",
         "legendgroup": "Marc",
         "line": {
          "color": "#000007",
          "dash": "solid"
         },
         "marker": {
          "symbol": "circle"
         },
         "mode": "lines",
         "name": "Marc",
         "orientation": "v",
         "showlegend": true,
         "type": "scatter",
         "x": [
          1,
          2
         ],
         "xaxis": "x",
         "y": [
          -1.7777777777777777,
          -2.666666666666667
         ],
         "yaxis": "y"
        },
        {
         "hovertemplate": "name=Rando Randal<br>Matchday=%{x}<br>Difference vs Mean=%{y}<extra></extra>",
         "legendgroup": "Rando Randal",
         "line": {
          "color": "#000008",
          "dash": "solid"
         },
         "marker": {
          "symbol": "circle"
         },
         "mode": "lines",
         "name": "Rando Randal",
         "orientation": "v",
         "showlegend": true,
         "type": "scatter",
         "x": [
          1,
          2
         ],
         "xaxis": "x",
         "y": [
          -1.7777777777777777,
          -2.666666666666667
         ],
         "yaxis": "y"
        },
        {
         "hovertemplate": "name=Tom<br>Matchday=%{x}<br>Difference vs Mean=%{y}<extra></extra>",
         "legendgroup": "Tom",
         "line": {
          "color": "#000009",
          "dash": "solid"
         },
         "marker": {
          "symbol": "circle"
         },
         "mode": "lines",
         "name": "Tom",
         "orientation": "v",
         "showlegend": true,
         "type": "scatter",
         "x": [
          1,
          2
         ],
         "xaxis": "x",
         "y": [
          0.22222222222222232,
          1.333333333333333
         ],
         "yaxis": "y"
        }
       ],
       "layout": {
        "font": {
         "family": "Arial",
         "size": 12
        },
        "legend": {
         "title": {
          "text": "name"
         },
         "tracegroupgap": 0
        },
        "paper_bgcolor": "rgba(0,0,0,0)",
        "plot_bgcolor": "rgba(0,0,0,0)",
        "template": {
         "data": {
          "candlestick": [
           {
            "decreasing": {
             "line": {
              "color": "#000033"
             }
            },
            "increasing": {
             "line": {
              "color": "#000032"
             }
            },
            "type": "candlestick"
           }
          ],
          "contour": [
           {
            "colorscale": [
             [
              0,
              "#000011"
             ],
             [
              0.1111111111111111,
              "#000012"
             ],
             [
              0.2222222222222222,
              "#000013"
             ],
             [
              0.3333333333333333,
              "#000014"
             ],
             [
              0.4444444444444444,
              "#000015"
             ],
             [
              0.5555555555555556,
              "#000016"
             ],
             [
              0.6666666666666666,
              "#000017"
             ],
             [
              0.7777777777777778,
              "#000018"
             ],
             [
              0.8888888888888888,
              "#000019"
             ],
             [
              1,
              "#000020"
             ]
            ],
            "type": "contour"
           }
          ],
          "contourcarpet": [
           {
            "colorscale": [
             [
              0,
              "#000011"
             ],
             [
              0.1111111111111111,
              "#000012"
             ],
             [
              0.2222222222222222,
              "#000013"
             ],
             [
              0.3333333333333333,
              "#000014"
             ],
             [
              0.4444444444444444,
              "#000015"
             ],
             [
              0.5555555555555556,
              "#000016"
             ],
             [
              0.6666666666666666,
              "#000017"
             ],
             [
              0.7777777777777778,
              "#000018"
             ],
             [
              0.8888888888888888,
              "#000019"
             ],
             [
              1,
              "#000020"
             ]
            ],
            "type": "contourcarpet"
           }
          ],
          "heatmap": [
           {
            "colorscale": [
             [
              0,
              "#000011"
             ],
             [
              0.1111111111111111,
              "#000012"
             ],
             [
              0.2222222222222222,
              "#000013"
             ],
             [
              0.3333333333333333,
              "#000014"
             ],
             [
              0.4444444444444444,
              "#000015"
             ],
             [
              0.5555555555555556,
              "#000016"
             ],
             [
              0.6666666666666666,
              "#000017"
             ],
             [
              0.7777777777777778,
              "#000018"
             ],
             [
              0.8888888888888888,
              "#000019"
             ],
             [
              1,
              "#000020"
             ]
            ],
            "type": "heatmap"
           }
          ],
          "histogram2d": [
           {
            "colorscale": [
             [
              0,
              "#000011"
             ],
             [
              0.1111111111111111,
              "#000012"
             ],
             [
              0.2222222222222222,
              "#000013"
             ],
             [
              0.3333333333333333,
              "#000014"
             ],
             [
              0.4444444444444444,
              "#000015"
             ],
             [
              0.5555555555555556,
              "#000016"
             ],
             [
              0.6666666666666666,
              "#000017"
             ],
             [
              0.7777777777777778,
              "#000018"
             ],
             [
              0.8888888888888888,
              "#000019"
             ],
             [
              1,
              "#000020"
             ]
            ],
            "type": "histogram2d"
           }
          ],
          "icicle": [
           {
            "textfont": {
             "color": "white"
            },
            "type": "icicle"
           }
          ],
          "sankey": [
           {
            "textfont": {
             "color": "#000036"
            },
            "type": "sankey"
           }
          ],
          "scatter": [
           {
            "marker": {
             "line": {
              "width": 0
             }
            },
            "type": "scatter"
           }
          ],
          "table": [
           {
            "cells": {
             "fill": {
              "color": "#000038"
             },
             "font": {
              "color": "#000037"
             },
             "line": {
              "color": "#000039"
             }
            },
            "header": {
             "fill": {
              "color": "#000040"
             },
             "font": {
              "color": "#000036"
             },
             "line": {
              "color": "#000039"
             }
            },
            "type": "table"
           }
          ],
          "waterfall": [
           {
            "connector": {
             "line": {
              "color": "#000036",
              "width": 2
             }
            },
            "decreasing": {
             "marker": {
              "color": "#000033"
             }
            },
            "increasing": {
             "marker": {
              "color": "#000032"
             }
            },
            "totals": {
             "marker": {
              "color": "#000034"
             }
            },
            "type": "waterfall"
           }
          ]
         },
         "layout": {
          "coloraxis": {
           "colorscale": [
            [
             0,
             "#000011"
            ],
            [
             0.1111111111111111,
             "#000012"
            ],
            [
             0.2222222222222222,
             "#000013"
            ],
            [
             0.3333333333333333,
             "#000014"
            ],
            [
             0.4444444444444444,
             "#000015"
            ],
            [
             0.5555555555555556,
             "#000016"
            ],
            [
             0.6666666666666666,
             "#000017"
            ],
            [
             0.7777777777777778,
             "#000018"
            ],
            [
             0.8888888888888888,
             "#000019"
            ],
            [
             1,
             "#000020"
            ]
           ]
          },
          "colorscale": {
           "diverging": [
            [
             0,
             "#000021"
            ],
            [
             0.1,
             "#000022"
            ],
            [
             0.2,
             "#000023"
            ],
            [
             0.3,
             "#000024"
            ],
            [
             0.4,
             "#000025"
            ],
            [
             0.5,
             "#000026"
            ],
            [
             0.6,
             "#000027"
            ],
            [
             0.7,
             "#000028"
            ],
            [
             0.8,
             "#000029"
            ],
            [
             0.9,
             "#000030"
            ],
            [
             1,
             "#000031"
            ]
           ],
           "sequential": [
            [
             0,
             "#000011"
            ],
            [
             0.1111111111111111,
             "#000012"
            ],
            [
             0.2222222222222222,
             "#000013"
            ],
            [
             0.3333333333333333,
             "#000014"
            ],
            [
             0.4444444444444444,
             "#000015"
            ],
            [
             0.5555555555555556,
             "#000016"
            ],
            [
             0.6666666666666666,
             "#000017"
            ],
            [
             0.7777777777777778,
             "#000018"
            ],
            [
             0.8888888888888888,
             "#000019"
            ],
            [
             1,
             "#000020"
            ]
           ],
           "sequentialminus": [
            [
             0,
             "#000011"
            ],
            [
             0.1111111111111111,
             "#000012"
            ],
            [
             0.2222222222222222,
             "#000013"
            ],
            [
             0.3333333333333333,
             "#000014"
            ],
            [
             0.4444444444444444,
             "#000015"
            ],
            [
             0.5555555555555556,
             "#000016"
            ],
            [
             0.6666666666666666,
             "#000017"
            ],
            [
             0.7777777777777778,
             "#000018"
            ],
            [
             0.8888888888888888,
             "#000019"
            ],
            [
             1,
             "#000020"
            ]
           ]
          },
          "colorway": [
           "#000001",
           "#000002",
           "#000003",
           "#000004",
           "#000005",
           "#000006",
           "#000007",
           "#000008",
           "#000009",
           "#000010"
          ]
         }
        },
        "title": {
         "font": {
          "family": "Arial",
          "size": 16
         },
         "text": "Difference vs Mean Over Time"
        },
        "xaxis": {
         "anchor": "y",
         "domain": [
          0,
          1
         ],
         "title": {
          "text": "Matchday"
         }
        },
        "yaxis": {
         "anchor": "x",
         "domain": [
          0,
          1
         ],
         "title": {
          "text": "Difference vs Mean"
         }
        }
       }
      }
     },
     "metadata": {},
     "output_type": "display_data"
    }
   ],
   "source": [
    "# Plot the difference vs mean over time using Plotly\n",
    "fig = px.line(vs_mean_df, x='matchday', y='difference', color='name', \n",
    "              labels={'matchday': 'Matchday', 'difference': 'Difference vs Mean'},\n",
    "              title='Difference vs Mean Over Time')  # purple for all others)\n",
    "\n",
    "# Customize the layout to match the theme of the earlier bar plot\n",
    "fig.update_layout(\n",
    "    font=dict(family='Arial', size=12),\n",
    "    title_font=dict(family='Arial', size=16),\n",
    "    paper_bgcolor='rgba(0,0,0,0)',\n",
    "    plot_bgcolor='rgba(0,0,0,0)',\n",
    "    xaxis_title='Matchday',\n",
    "    yaxis_title='Difference vs Mean'\n",
    ")\n",
    "\n",
    "fig.show()"
   ]
  },
  {
   "cell_type": "code",
   "execution_count": 232,
   "id": "3db15226",
   "metadata": {},
   "outputs": [],
   "source": [
    "points_by_match_code = df_merged.groupby(['name', 'match_code', 'stage_detail']).agg({'base_points': 'sum', 'total_points': 'sum'}).reset_index()\n",
    "\n",
    "# Calculate the cumulative total points for each player\n",
    "points_by_match_code['cumulative_total_points'] = points_by_match_code.groupby('name')['total_points'].cumsum()\n",
    "\n",
    "# Calculate the cumulative average total points for each matchday\n",
    "cumulative_avg_total_points = points_by_match_code.groupby('match_code')['cumulative_total_points'].mean().reset_index()\n",
    "cumulative_avg_total_points.rename(columns={'cumulative_total_points': 'cumulative_avg_total_points'}, inplace=True)\n",
    "\n",
    "# Merge the cumulative average total points back to the original DataFrame\n",
    "vs_mean_match_code_df = points_by_match_code.merge(cumulative_avg_total_points, on='match_code')\n",
    "\n",
    "# Calculate the difference between each player's cumulative total points and the cumulative average\n",
    "vs_mean_match_code_df['difference'] = vs_mean_match_code_df['cumulative_total_points'] - vs_mean_match_code_df['cumulative_avg_total_points']\n",
    "\n",
    "# Display the resulting DataFrame\n",
    "vs_mean_match_code_df[['name', 'match_code', 'cumulative_total_points', 'cumulative_avg_total_points', 'difference']]\n",
    "\n",
    "# write to csv\n",
    "vs_mean_match_code_df.to_csv('data/vs_mean_match_code_df.csv')"
   ]
  },
  {
   "cell_type": "code",
   "execution_count": 189,
   "id": "a4768d98",
   "metadata": {},
   "outputs": [
    {
     "data": {
      "application/vnd.plotly.v1+json": {
       "config": {
        "plotlyServerURL": "https://plot.ly"
       },
       "data": [
        {
         "hovertemplate": "name=Corfe<br>Matchday=%{x}<br>Difference vs Mean=%{y}<extra></extra>",
         "legendgroup": "Corfe",
         "line": {
          "color": "#000001",
          "dash": "solid"
         },
         "marker": {
          "symbol": "circle"
         },
         "mode": "lines",
         "name": "Corfe",
         "orientation": "v",
         "showlegend": true,
         "type": "scatter",
         "x": [
          "M01",
          "M03",
          "M05",
          "M08",
          "M12",
          "M13",
          "M16",
          "M17",
          "M20",
          "M22"
         ],
         "xaxis": "x",
         "y": [
          -0.6666666666666666,
          -0.5555555555555556,
          -0.5555555555555556,
          -0.5555555555555554,
          -0.7777777777777777,
          -1,
          1.3333333333333335,
          1.666666666666667,
          1.4444444444444446,
          1.333333333333333
         ],
         "yaxis": "y"
        },
        {
         "hovertemplate": "name=Ed<br>Matchday=%{x}<br>Difference vs Mean=%{y}<extra></extra>",
         "legendgroup": "Ed",
         "line": {
          "color": "#000002",
          "dash": "solid"
         },
         "marker": {
          "symbol": "circle"
         },
         "mode": "lines",
         "name": "Ed",
         "orientation": "v",
         "showlegend": true,
         "type": "scatter",
         "x": [
          "M01",
          "M03",
          "M05",
          "M08",
          "M12",
          "M13",
          "M16",
          "M17",
          "M20",
          "M22"
         ],
         "xaxis": "x",
         "y": [
          -0.6666666666666666,
          4.444444444444445,
          4.444444444444445,
          4.444444444444445,
          4.222222222222222,
          4,
          4.333333333333334,
          3.666666666666667,
          3.4444444444444446,
          3.333333333333333
         ],
         "yaxis": "y"
        },
        {
         "hovertemplate": "name=Jay<br>Matchday=%{x}<br>Difference vs Mean=%{y}<extra></extra>",
         "legendgroup": "Jay",
         "line": {
          "color": "#000003",
          "dash": "solid"
         },
         "marker": {
          "symbol": "circle"
         },
         "mode": "lines",
         "name": "Jay",
         "orientation": "v",
         "showlegend": true,
         "type": "scatter",
         "x": [
          "M01",
          "M03",
          "M05",
          "M08",
          "M12",
          "M13",
          "M16",
          "M17",
          "M20",
          "M22"
         ],
         "xaxis": "x",
         "y": [
          2.3333333333333335,
          2.4444444444444446,
          2.4444444444444446,
          1.4444444444444446,
          2.2222222222222223,
          3,
          4.333333333333334,
          3.666666666666667,
          4.444444444444445,
          4.333333333333333
         ],
         "yaxis": "y"
        },
        {
         "hovertemplate": "name=Jonny<br>Matchday=%{x}<br>Difference vs Mean=%{y}<extra></extra>",
         "legendgroup": "Jonny",
         "line": {
          "color": "#000004",
          "dash": "solid"
         },
         "marker": {
          "symbol": "circle"
         },
         "mode": "lines",
         "name": "Jonny",
         "orientation": "v",
         "showlegend": true,
         "type": "scatter",
         "x": [
          "M01",
          "M03",
          "M05",
          "M08",
          "M12",
          "M13",
          "M16",
          "M17",
          "M20",
          "M22"
         ],
         "xaxis": "x",
         "y": [
          -0.6666666666666666,
          -1.5555555555555556,
          -1.5555555555555556,
          -0.5555555555555554,
          -0.7777777777777777,
          -1,
          -1.6666666666666665,
          -1.333333333333333,
          -1.5555555555555554,
          -0.666666666666667
         ],
         "yaxis": "y"
        },
        {
         "hovertemplate": "name=Larry<br>Matchday=%{x}<br>Difference vs Mean=%{y}<extra></extra>",
         "legendgroup": "Larry",
         "line": {
          "color": "#000005",
          "dash": "solid"
         },
         "marker": {
          "symbol": "circle"
         },
         "mode": "lines",
         "name": "Larry",
         "orientation": "v",
         "showlegend": true,
         "type": "scatter",
         "x": [
          "M01",
          "M03",
          "M05",
          "M08",
          "M12",
          "M13",
          "M16",
          "M17",
          "M20",
          "M22"
         ],
         "xaxis": "x",
         "y": [
          -0.6666666666666666,
          -1.5555555555555556,
          -1.5555555555555556,
          -0.5555555555555554,
          0.22222222222222232,
          0,
          -0.6666666666666665,
          -0.33333333333333304,
          -0.5555555555555554,
          -0.666666666666667
         ],
         "yaxis": "y"
        },
        {
         "hovertemplate": "name=Luke<br>Matchday=%{x}<br>Difference vs Mean=%{y}<extra></extra>",
         "legendgroup": "Luke",
         "line": {
          "color": "#000006",
          "dash": "solid"
         },
         "marker": {
          "symbol": "circle"
         },
         "mode": "lines",
         "name": "Luke",
         "orientation": "v",
         "showlegend": true,
         "type": "scatter",
         "x": [
          "M01",
          "M03",
          "M05",
          "M08",
          "M12",
          "M13",
          "M16",
          "M17",
          "M20",
          "M22"
         ],
         "xaxis": "x",
         "y": [
          -0.6666666666666666,
          -1.5555555555555556,
          -1.5555555555555556,
          -1.5555555555555554,
          -1.7777777777777777,
          -2,
          -2.6666666666666665,
          -3.333333333333333,
          -3.5555555555555554,
          -3.666666666666667
         ],
         "yaxis": "y"
        },
        {
         "hovertemplate": "name=Marc<br>Matchday=%{x}<br>Difference vs Mean=%{y}<extra></extra>",
         "legendgroup": "Marc",
         "line": {
          "color": "#000007",
          "dash": "solid"
         },
         "marker": {
          "symbol": "circle"
         },
         "mode": "lines",
         "name": "Marc",
         "orientation": "v",
         "showlegend": true,
         "type": "scatter",
         "x": [
          "M01",
          "M03",
          "M05",
          "M08",
          "M12",
          "M13",
          "M16",
          "M17",
          "M20",
          "M22"
         ],
         "xaxis": "x",
         "y": [
          -0.6666666666666666,
          -1.5555555555555556,
          -1.5555555555555556,
          -1.5555555555555554,
          -1.7777777777777777,
          -2,
          -2.6666666666666665,
          -2.333333333333333,
          -2.5555555555555554,
          -2.666666666666667
         ],
         "yaxis": "y"
        },
        {
         "hovertemplate": "name=Rando Randal<br>Matchday=%{x}<br>Difference vs Mean=%{y}<extra></extra>",
         "legendgroup": "Rando Randal",
         "line": {
          "color": "#000008",
          "dash": "solid"
         },
         "marker": {
          "symbol": "circle"
         },
         "mode": "lines",
         "name": "Rando Randal",
         "orientation": "v",
         "showlegend": true,
         "type": "scatter",
         "x": [
          "M01",
          "M03",
          "M05",
          "M08",
          "M12",
          "M13",
          "M16",
          "M17",
          "M20",
          "M22"
         ],
         "xaxis": "x",
         "y": [
          -0.6666666666666666,
          -1.5555555555555556,
          -1.5555555555555556,
          -1.5555555555555554,
          -1.7777777777777777,
          -2,
          -2.6666666666666665,
          -2.333333333333333,
          -2.5555555555555554,
          -2.666666666666667
         ],
         "yaxis": "y"
        },
        {
         "hovertemplate": "name=Tom<br>Matchday=%{x}<br>Difference vs Mean=%{y}<extra></extra>",
         "legendgroup": "Tom",
         "line": {
          "color": "#000009",
          "dash": "solid"
         },
         "marker": {
          "symbol": "circle"
         },
         "mode": "lines",
         "name": "Tom",
         "orientation": "v",
         "showlegend": true,
         "type": "scatter",
         "x": [
          "M01",
          "M03",
          "M05",
          "M08",
          "M12",
          "M13",
          "M16",
          "M17",
          "M20",
          "M22"
         ],
         "xaxis": "x",
         "y": [
          2.3333333333333335,
          1.4444444444444444,
          1.4444444444444444,
          0.44444444444444464,
          0.22222222222222232,
          1,
          0.3333333333333335,
          0.666666666666667,
          1.4444444444444446,
          1.333333333333333
         ],
         "yaxis": "y"
        }
       ],
       "layout": {
        "font": {
         "family": "Arial",
         "size": 12
        },
        "legend": {
         "title": {
          "text": "name"
         },
         "tracegroupgap": 0
        },
        "paper_bgcolor": "rgba(0,0,0,0)",
        "plot_bgcolor": "rgba(0,0,0,0)",
        "template": {
         "data": {
          "candlestick": [
           {
            "decreasing": {
             "line": {
              "color": "#000033"
             }
            },
            "increasing": {
             "line": {
              "color": "#000032"
             }
            },
            "type": "candlestick"
           }
          ],
          "contour": [
           {
            "colorscale": [
             [
              0,
              "#000011"
             ],
             [
              0.1111111111111111,
              "#000012"
             ],
             [
              0.2222222222222222,
              "#000013"
             ],
             [
              0.3333333333333333,
              "#000014"
             ],
             [
              0.4444444444444444,
              "#000015"
             ],
             [
              0.5555555555555556,
              "#000016"
             ],
             [
              0.6666666666666666,
              "#000017"
             ],
             [
              0.7777777777777778,
              "#000018"
             ],
             [
              0.8888888888888888,
              "#000019"
             ],
             [
              1,
              "#000020"
             ]
            ],
            "type": "contour"
           }
          ],
          "contourcarpet": [
           {
            "colorscale": [
             [
              0,
              "#000011"
             ],
             [
              0.1111111111111111,
              "#000012"
             ],
             [
              0.2222222222222222,
              "#000013"
             ],
             [
              0.3333333333333333,
              "#000014"
             ],
             [
              0.4444444444444444,
              "#000015"
             ],
             [
              0.5555555555555556,
              "#000016"
             ],
             [
              0.6666666666666666,
              "#000017"
             ],
             [
              0.7777777777777778,
              "#000018"
             ],
             [
              0.8888888888888888,
              "#000019"
             ],
             [
              1,
              "#000020"
             ]
            ],
            "type": "contourcarpet"
           }
          ],
          "heatmap": [
           {
            "colorscale": [
             [
              0,
              "#000011"
             ],
             [
              0.1111111111111111,
              "#000012"
             ],
             [
              0.2222222222222222,
              "#000013"
             ],
             [
              0.3333333333333333,
              "#000014"
             ],
             [
              0.4444444444444444,
              "#000015"
             ],
             [
              0.5555555555555556,
              "#000016"
             ],
             [
              0.6666666666666666,
              "#000017"
             ],
             [
              0.7777777777777778,
              "#000018"
             ],
             [
              0.8888888888888888,
              "#000019"
             ],
             [
              1,
              "#000020"
             ]
            ],
            "type": "heatmap"
           }
          ],
          "histogram2d": [
           {
            "colorscale": [
             [
              0,
              "#000011"
             ],
             [
              0.1111111111111111,
              "#000012"
             ],
             [
              0.2222222222222222,
              "#000013"
             ],
             [
              0.3333333333333333,
              "#000014"
             ],
             [
              0.4444444444444444,
              "#000015"
             ],
             [
              0.5555555555555556,
              "#000016"
             ],
             [
              0.6666666666666666,
              "#000017"
             ],
             [
              0.7777777777777778,
              "#000018"
             ],
             [
              0.8888888888888888,
              "#000019"
             ],
             [
              1,
              "#000020"
             ]
            ],
            "type": "histogram2d"
           }
          ],
          "icicle": [
           {
            "textfont": {
             "color": "white"
            },
            "type": "icicle"
           }
          ],
          "sankey": [
           {
            "textfont": {
             "color": "#000036"
            },
            "type": "sankey"
           }
          ],
          "scatter": [
           {
            "marker": {
             "line": {
              "width": 0
             }
            },
            "type": "scatter"
           }
          ],
          "table": [
           {
            "cells": {
             "fill": {
              "color": "#000038"
             },
             "font": {
              "color": "#000037"
             },
             "line": {
              "color": "#000039"
             }
            },
            "header": {
             "fill": {
              "color": "#000040"
             },
             "font": {
              "color": "#000036"
             },
             "line": {
              "color": "#000039"
             }
            },
            "type": "table"
           }
          ],
          "waterfall": [
           {
            "connector": {
             "line": {
              "color": "#000036",
              "width": 2
             }
            },
            "decreasing": {
             "marker": {
              "color": "#000033"
             }
            },
            "increasing": {
             "marker": {
              "color": "#000032"
             }
            },
            "totals": {
             "marker": {
              "color": "#000034"
             }
            },
            "type": "waterfall"
           }
          ]
         },
         "layout": {
          "coloraxis": {
           "colorscale": [
            [
             0,
             "#000011"
            ],
            [
             0.1111111111111111,
             "#000012"
            ],
            [
             0.2222222222222222,
             "#000013"
            ],
            [
             0.3333333333333333,
             "#000014"
            ],
            [
             0.4444444444444444,
             "#000015"
            ],
            [
             0.5555555555555556,
             "#000016"
            ],
            [
             0.6666666666666666,
             "#000017"
            ],
            [
             0.7777777777777778,
             "#000018"
            ],
            [
             0.8888888888888888,
             "#000019"
            ],
            [
             1,
             "#000020"
            ]
           ]
          },
          "colorscale": {
           "diverging": [
            [
             0,
             "#000021"
            ],
            [
             0.1,
             "#000022"
            ],
            [
             0.2,
             "#000023"
            ],
            [
             0.3,
             "#000024"
            ],
            [
             0.4,
             "#000025"
            ],
            [
             0.5,
             "#000026"
            ],
            [
             0.6,
             "#000027"
            ],
            [
             0.7,
             "#000028"
            ],
            [
             0.8,
             "#000029"
            ],
            [
             0.9,
             "#000030"
            ],
            [
             1,
             "#000031"
            ]
           ],
           "sequential": [
            [
             0,
             "#000011"
            ],
            [
             0.1111111111111111,
             "#000012"
            ],
            [
             0.2222222222222222,
             "#000013"
            ],
            [
             0.3333333333333333,
             "#000014"
            ],
            [
             0.4444444444444444,
             "#000015"
            ],
            [
             0.5555555555555556,
             "#000016"
            ],
            [
             0.6666666666666666,
             "#000017"
            ],
            [
             0.7777777777777778,
             "#000018"
            ],
            [
             0.8888888888888888,
             "#000019"
            ],
            [
             1,
             "#000020"
            ]
           ],
           "sequentialminus": [
            [
             0,
             "#000011"
            ],
            [
             0.1111111111111111,
             "#000012"
            ],
            [
             0.2222222222222222,
             "#000013"
            ],
            [
             0.3333333333333333,
             "#000014"
            ],
            [
             0.4444444444444444,
             "#000015"
            ],
            [
             0.5555555555555556,
             "#000016"
            ],
            [
             0.6666666666666666,
             "#000017"
            ],
            [
             0.7777777777777778,
             "#000018"
            ],
            [
             0.8888888888888888,
             "#000019"
            ],
            [
             1,
             "#000020"
            ]
           ]
          },
          "colorway": [
           "#000001",
           "#000002",
           "#000003",
           "#000004",
           "#000005",
           "#000006",
           "#000007",
           "#000008",
           "#000009",
           "#000010"
          ]
         }
        },
        "title": {
         "font": {
          "family": "Arial",
          "size": 16
         },
         "text": "Difference vs Mean Over Time"
        },
        "xaxis": {
         "anchor": "y",
         "domain": [
          0,
          1
         ],
         "title": {
          "text": "Match"
         }
        },
        "yaxis": {
         "anchor": "x",
         "domain": [
          0,
          1
         ],
         "title": {
          "text": "Difference vs Mean"
         }
        }
       }
      }
     },
     "metadata": {},
     "output_type": "display_data"
    }
   ],
   "source": [
    "# Plot the difference vs mean over time using Plotly\n",
    "fig = px.line(vs_mean_df, x='match_code', y='difference', color='name', \n",
    "              labels={'match_code': 'Matchday', 'difference': 'Difference vs Mean'},\n",
    "              title='Difference vs Mean Over Time')  \n",
    "\n",
    "# Customize the layout to match the theme of the earlier bar plot\n",
    "fig.update_layout(\n",
    "    font=dict(family='Arial', size=12),\n",
    "    title_font=dict(family='Arial', size=16),\n",
    "    paper_bgcolor='rgba(0,0,0,0)',\n",
    "    plot_bgcolor='rgba(0,0,0,0)',\n",
    "    xaxis_title='Match',\n",
    "    yaxis_title='Difference vs Mean'\n",
    ")\n",
    "\n",
    "fig.show()"
   ]
  },
  {
   "cell_type": "code",
   "execution_count": 236,
   "id": "b8efb766",
   "metadata": {},
   "outputs": [],
   "source": [
    "# Group by name to get overall standings\n",
    "overall_standings = vs_mean_match_code_df.groupby('name').agg({\n",
    "    'cumulative_total_points': 'last',\n",
    "    'difference': lambda x: x.tolist(),  # Convert difference values to list\n",
    "}).reset_index()\n",
    "\n",
    "# Sort the overall standings by 'cumulative_total_points' in descending order to determine position\n",
    "overall_standings = overall_standings.sort_values(by='cumulative_total_points', ascending=False).reset_index(drop=True)\n",
    "\n",
    "# Calculate position\n",
    "overall_standings['position'] = overall_standings.index + 1\n",
    "\n",
    "# Ensure 'position' column is of integer type\n",
    "overall_standings['position'] = overall_standings['position'].astype(int)\n",
    "\n",
    "# Group by name to get cumulative total points and previous total points\n",
    "points_by_name_stage['prev_total_points'] = points_by_name_stage.groupby('name')['total_points'].shift(1).fillna(0)\n",
    "points_by_name_stage['cumulative_total_points'] = points_by_name_stage.groupby('name')['total_points'].cumsum()\n",
    "\n",
    "# Calculate ranks for each matchday\n",
    "points_by_name_stage['rank'] = points_by_name_stage.groupby('matchday')['cumulative_total_points'].rank(ascending=False, method='min')\n",
    "\n",
    "# Shift rank to get previous matchday rank\n",
    "points_by_name_stage['prev_rank'] = points_by_name_stage.groupby('name')['rank'].shift(1).fillna(0)\n",
    "\n",
    "# Calculate rank change\n",
    "points_by_name_stage['rank_change'] = points_by_name_stage['prev_rank'] - points_by_name_stage['rank']\n",
    "\n",
    "# Get the latest matchday rank change for each player\n",
    "latest_matchday = points_by_name_stage['matchday'].max()\n",
    "latest_rank_change = points_by_name_stage[points_by_name_stage['matchday'] == latest_matchday][['name', 'rank_change']]\n",
    "\n",
    "# Merge the rank change with overall standings\n",
    "overall_standings = overall_standings.merge(latest_rank_change, on='name', how='left')\n",
    "\n",
    "# Calculate the points change from the previous matchday for each player\n",
    "latest_matchday_points = points_by_name_stage[points_by_name_stage['matchday'] == latest_matchday][['name', 'cumulative_total_points']]\n",
    "previous_matchday = latest_matchday - 1\n",
    "previous_matchday_points = points_by_name_stage[points_by_name_stage['matchday'] == previous_matchday][['name', 'cumulative_total_points']]\n",
    "previous_matchday_points.columns = ['name', 'prev_cumulative_total_points']\n",
    "\n",
    "points_change_df = latest_matchday_points.merge(previous_matchday_points, on='name', how='left')\n",
    "points_change_df['points_change'] = points_change_df['cumulative_total_points'] - points_change_df['prev_cumulative_total_points'].fillna(0)\n",
    "\n",
    "# Merge the points change with overall standings\n",
    "overall_standings = overall_standings.merge(points_change_df[['name', 'points_change']], on='name', how='left')\n",
    "\n",
    "# Define the symbols for rank change\n",
    "def rank_change_symbol(change):\n",
    "    if change >= 2:\n",
    "        return '🔥'  # Player moved up in rank by 2 or more\n",
    "    elif change == 1:\n",
    "        return '👍'  # Player moved up in rank by 1\n",
    "    elif change == -1:\n",
    "        return '😵'  # Player moved down in rank by 1\n",
    "    elif change <= -2:\n",
    "        return '💀'  # Player moved down in rank by 2 or more\n",
    "    else:\n",
    "        return '🥱'  # No change in rank\n",
    "\n",
    "# Apply rank change symbols and convert to string\n",
    "overall_standings['rank_change_symbol'] = overall_standings['rank_change'].apply(rank_change_symbol)\n",
    "\n",
    "# Reorder the columns\n",
    "overall_standings = overall_standings[['name', 'position', 'rank_change', 'rank_change_symbol', 'cumulative_total_points', 'points_change', 'difference']]\n",
    "\n",
    "overall_standings.to_csv('data/overall_standings.csv')"
   ]
  }
 ],
 "metadata": {
  "kernelspec": {
   "display_name": "Python 3 (ipykernel)",
   "language": "python",
   "name": "python3"
  },
  "language_info": {
   "codemirror_mode": {
    "name": "ipython",
    "version": 3
   },
   "file_extension": ".py",
   "mimetype": "text/x-python",
   "name": "python",
   "nbconvert_exporter": "python",
   "pygments_lexer": "ipython3",
   "version": "3.12.3"
  }
 },
 "nbformat": 4,
 "nbformat_minor": 5
}
